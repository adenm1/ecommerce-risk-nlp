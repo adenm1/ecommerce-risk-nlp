{
 "cells": [
  {
   "metadata": {},
   "cell_type": "raw",
   "source": "Data reading/filteringd",
   "id": "39af424d09c82768"
  },
  {
   "metadata": {},
   "cell_type": "code",
   "outputs": [],
   "execution_count": null,
   "source": [
    "import pandas as pd\n",
    "\n",
    "df = pd.read_csv(\"data/twcs.csv\")\n",
    "\n",
    "user_tweets = df[df['inbound'] == True].copy()\n",
    "\n",
    "user_tweets[['author_id', 'text', 'created_at']].head()"
   ],
   "id": "445ea91dc2338d30"
  },
  {
   "metadata": {},
   "cell_type": "markdown",
   "source": "抽样部分数据,手动标注",
   "id": "e568939af97e3bfb"
  },
  {
   "cell_type": "code",
   "id": "initial_id",
   "metadata": {
    "collapsed": true,
    "ExecuteTime": {
     "end_time": "2025-06-15T09:38:13.040459Z",
     "start_time": "2025-06-15T09:38:12.978494Z"
    }
   },
   "source": [
    "sample = user_tweets[['text']].sample(200, random_state=42)\n",
    "sample.to_csv(\"labels/labeled_sample.csv\", index=False)"
   ],
   "outputs": [],
   "execution_count": 3
  },
  {
   "metadata": {
    "ExecuteTime": {
     "end_time": "2025-06-15T09:49:30.860770Z",
     "start_time": "2025-06-15T09:49:30.853501Z"
    }
   },
   "cell_type": "code",
   "source": [
    "add_column = pd.read_csv(\"labels/labeled_sample.csv\")\n",
    "\n",
    "add_column['label'] = \"\"\n",
    "add_column.to_csv(\"labels/labeled_sample_\")"
   ],
   "id": "4ead9118e752d123",
   "outputs": [],
   "execution_count": 5
  },
  {
   "metadata": {},
   "cell_type": "markdown",
   "source": "Some data have been sampled (200, random), and 60 have been manually annotated",
   "id": "a34c9949f28c58ce"
  },
  {
   "metadata": {},
   "cell_type": "markdown",
   "source": "评估模型效果(labeled_sample_)",
   "id": "70d436bab08ebb84"
  },
  {
   "metadata": {
    "ExecuteTime": {
     "end_time": "2025-06-15T11:46:16.861579Z",
     "start_time": "2025-06-15T11:46:16.848019Z"
    }
   },
   "cell_type": "code",
   "source": [
    "from sklearn.feature_extraction.text import TfidfVectorizer\n",
    "from sklearn.preprocessing import LabelEncoder\n",
    "from sklearn.model_selection import train_test_split, learning_curve\n",
    "import numpy as np\n",
    "\n",
    "# Loading data\n",
    "df = pd.read_csv(\"labels/labeled_sample_.csv\")\n",
    "df.dropna(subset=['text', 'label'], inplace=True)\n",
    "\n",
    "# TF-IDF Vectorizing\n",
    "tfidf = TfidfVectorizer(max_features=3000)\n",
    "X = tfidf.fit_transform(df['text']).toarray()\n",
    "\n",
    "# Label Encoding\n",
    "le = LabelEncoder()\n",
    "y = le.fit_transform(df['label'])\n",
    "\n",
    "# Split into training/test sets\n",
    "X_train, X_test, y_train, y_test = train_test_split(X, y, test_size=0.2, random_state=42)"
   ],
   "id": "cdebf06c098b6502",
   "outputs": [],
   "execution_count": 9
  },
  {
   "metadata": {},
   "cell_type": "markdown",
   "source": "Using Apple MLX",
   "id": "e7d12ec824d6cee0"
  },
  {
   "metadata": {
    "ExecuteTime": {
     "end_time": "2025-06-15T11:48:36.943460Z",
     "start_time": "2025-06-15T11:48:36.860265Z"
    }
   },
   "cell_type": "code",
   "source": [
    "import mlx.core as mx\n",
    "\n",
    "X_train_mx = mx.array(X_train)\n",
    "y_train_mx = mx.array(y_train)\n",
    "X_test_mx = mx.array(X_test)\n",
    "y_test_mx = mx.array(y_test)"
   ],
   "id": "d9bafdb230687a15",
   "outputs": [],
   "execution_count": 10
  },
  {
   "metadata": {},
   "cell_type": "markdown",
   "source": "STEP 1: model, optimizer",
   "id": "f7d13aea18171ec3"
  },
  {
   "metadata": {
    "ExecuteTime": {
     "end_time": "2025-06-15T12:54:21.183819Z",
     "start_time": "2025-06-15T12:54:21.160219Z"
    }
   },
   "cell_type": "code",
   "source": [
    "import mlx.nn as nn\n",
    "import mlx.optimizers as optim\n",
    "\n",
    "n_classes = len(set(y_test)) # Number of label categories\n",
    "input_dim = X_train.shape[1] # TF-IDF vector dimensions\n",
    "\n",
    "model = nn.Sequential(\n",
    "    nn.Linear(input_dim, 128),\n",
    "    nn.ReLU(),\n",
    "    nn.Linear(128, n_classes)\n",
    ")\n",
    "\n",
    "# loss_fn = nn.losses.cross_entropy(logits=X_train_mx, targets=y_train_mx, reduction=\"mean\")\n",
    "\n",
    "# loss+gradient func\n",
    "loss_and_grad_fn = nn.value_and_grad(\n",
    "    model,\n",
    "    lambda m, X, y: nn.losses.cross_entropy(\n",
    "        logits=m(X),\n",
    "        targets=y,\n",
    "        reduction=\"mean\"\n",
    "    )\n",
    ")\n",
    "\n",
    "optimizer = optim.Adam(learning_rate=0.01)\n",
    "mx.eval(model.parameters())\n",
    "mx.eval(optimizer.state)"
   ],
   "id": "8ae5d1078a86330c",
   "outputs": [],
   "execution_count": 32
  },
  {
   "metadata": {
    "ExecuteTime": {
     "end_time": "2025-06-15T12:47:53.296389Z",
     "start_time": "2025-06-15T12:47:53.247224Z"
    }
   },
   "cell_type": "code",
   "source": [
    "print(model(X_train_mx))\n",
    "print(loss_fn)"
   ],
   "id": "da3da6c12f2a6e9",
   "outputs": [
    {
     "name": "stdout",
     "output_type": "stream",
     "text": [
      "array([[0.015317, -0.0823755, -0.0036931, -0.0576102, 0.0240737],\n",
      "       [0.0227535, -0.07477, 0.00722791, -0.0663485, 0.0122911],\n",
      "       [0.00730453, -0.0843332, 0.00105042, -0.0602917, 0.0337839],\n",
      "       ...,\n",
      "       [0.0142277, -0.0773441, 0.0138322, -0.0672997, 0.00961285],\n",
      "       [0.018615, -0.0760249, 0.0133837, -0.046209, 0.00635851],\n",
      "       [0.0114859, -0.0767276, 0.0015609, -0.0571076, -0.00077112]], dtype=float32)\n",
      "array(6.42905, dtype=float32)\n"
     ]
    }
   ],
   "execution_count": 24
  },
  {
   "metadata": {},
   "cell_type": "markdown",
   "source": "STEP 2: Training model + printing loss",
   "id": "9e8aa58aa062cc7f"
  },
  {
   "metadata": {
    "ExecuteTime": {
     "end_time": "2025-06-15T12:57:13.154141Z",
     "start_time": "2025-06-15T12:57:13.105856Z"
    }
   },
   "cell_type": "code",
   "source": [
    "import mlx.core as mx\n",
    "import matplotlib.pyplot as plt\n",
    "\n",
    "# Preparing Parameter\n",
    "epochs = 20\n",
    "loss_history = []\n",
    "\n",
    "model.train()\n",
    "\n",
    "for epoch in range(epochs) :\n",
    "    # Forward Propagation\n",
    "    # logits = model(X_train_mx)\n",
    "\n",
    "    # Compute loss and grads\n",
    "    loss_val, grads = loss_and_grad_fn(model, X_test_mx, y_test_mx)\n",
    "\n",
    "    # Parameter update\n",
    "    optimizer.update(model, grads)\n",
    "    # Force execution of lazy updates\n",
    "    mx.eval(model.parameters(), optimizer.state)\n",
    "\n",
    "    # Save loss\n",
    "    loss_history.append(loss_val)\n",
    "\n",
    "    print(type(loss_val), loss_val.shape if hasattr(loss_val, \"shape\") else \"\")\n",
    "    print(f\"Epoch {epoch + 1}/{epochs} - Loss: {loss_val:.4f}\")"
   ],
   "id": "57402f767734051e",
   "outputs": [
    {
     "name": "stdout",
     "output_type": "stream",
     "text": [
      "<class 'mlx.core.array'> ()\n",
      "Epoch 1/20 - Loss: -73.8160\n",
      "<class 'mlx.core.array'> ()\n",
      "Epoch 2/20 - Loss: -83.0614\n",
      "<class 'mlx.core.array'> ()\n",
      "Epoch 3/20 - Loss: -92.9538\n",
      "<class 'mlx.core.array'> ()\n",
      "Epoch 4/20 - Loss: -103.4153\n",
      "<class 'mlx.core.array'> ()\n",
      "Epoch 5/20 - Loss: -114.5154\n",
      "<class 'mlx.core.array'> ()\n",
      "Epoch 6/20 - Loss: -126.2358\n",
      "<class 'mlx.core.array'> ()\n",
      "Epoch 7/20 - Loss: -138.5824\n",
      "<class 'mlx.core.array'> ()\n",
      "Epoch 8/20 - Loss: -151.5489\n",
      "<class 'mlx.core.array'> ()\n",
      "Epoch 9/20 - Loss: -165.1765\n",
      "<class 'mlx.core.array'> ()\n",
      "Epoch 10/20 - Loss: -179.4348\n",
      "<class 'mlx.core.array'> ()\n",
      "Epoch 11/20 - Loss: -194.3154\n",
      "<class 'mlx.core.array'> ()\n",
      "Epoch 12/20 - Loss: -209.8525\n",
      "<class 'mlx.core.array'> ()\n",
      "Epoch 13/20 - Loss: -225.9667\n",
      "<class 'mlx.core.array'> ()\n",
      "Epoch 14/20 - Loss: -242.6726\n",
      "<class 'mlx.core.array'> ()\n",
      "Epoch 15/20 - Loss: -260.0201\n",
      "<class 'mlx.core.array'> ()\n",
      "Epoch 16/20 - Loss: -277.9582\n",
      "<class 'mlx.core.array'> ()\n",
      "Epoch 17/20 - Loss: -296.4980\n",
      "<class 'mlx.core.array'> ()\n",
      "Epoch 18/20 - Loss: -315.6411\n",
      "<class 'mlx.core.array'> ()\n",
      "Epoch 19/20 - Loss: -335.3912\n",
      "<class 'mlx.core.array'> ()\n",
      "Epoch 20/20 - Loss: -355.7489\n"
     ]
    }
   ],
   "execution_count": 34
  }
 ],
 "metadata": {
  "kernelspec": {
   "display_name": "Python 3",
   "language": "python",
   "name": "python3"
  },
  "language_info": {
   "codemirror_mode": {
    "name": "ipython",
    "version": 2
   },
   "file_extension": ".py",
   "mimetype": "text/x-python",
   "name": "python",
   "nbconvert_exporter": "python",
   "pygments_lexer": "ipython2",
   "version": "2.7.6"
  }
 },
 "nbformat": 4,
 "nbformat_minor": 5
}
