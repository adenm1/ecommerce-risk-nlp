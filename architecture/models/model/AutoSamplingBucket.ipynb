{
 "cells": [
  {
   "metadata": {},
   "cell_type": "markdown",
   "source": "# 分桶采样",
   "id": "39766cf4c3c84dff"
  },
  {
   "cell_type": "code",
   "id": "initial_id",
   "metadata": {
    "collapsed": true,
    "ExecuteTime": {
     "end_time": "2025-06-18T16:28:23.498811Z",
     "start_time": "2025-06-18T16:28:23.489790Z"
    }
   },
   "source": "from utils import *",
   "outputs": [],
   "execution_count": 10
  },
  {
   "metadata": {
    "ExecuteTime": {
     "end_time": "2025-06-18T16:20:11.294704Z",
     "start_time": "2025-06-18T16:20:10.960910Z"
    }
   },
   "cell_type": "code",
   "source": [
    "df_1 = pd.read_csv(f'{ASSETS}labeled_L2__1_technical.csv')\n",
    "df_2 = pd.read_csv(f'{ASSETS}labeled_L2__2_payment.csv')\n",
    "df_3 = pd.read_csv(f'{ASSETS}labeled_L2__3_delivery.csv')\n",
    "df_4 = pd.read_csv(f'{ASSETS}labeled_L2__4_account.csv')\n",
    "df_5 = pd.read_csv(f'{ASSETS}labeled_L2__5_service.csv')\n",
    "df_6 = pd.read_csv(f'{ASSETS}labeled_L2__6_pricing.csv')\n",
    "df_7 = pd.read_csv(f'{ASSETS}labeled_L2__7_legal.csv')"
   ],
   "id": "fbd86326f4a080b1",
   "outputs": [],
   "execution_count": 3
  },
  {
   "metadata": {},
   "cell_type": "markdown",
   "source": [
    "| 分类          | 样本数量         | 说明         |\n",
    "|-------------|--------------|------------|\n",
    "| 头部类（>30k）   | 抽样 1500 条    | 控制占比，避免过拟合 |\n",
    "| 中部类（5k–30k） | 抽样 1000 条    | 保留一定代表性    |\n",
    "| 稀有类（<5k）    | 全部使用 or 抽600 | 最大保留信息     |\n",
    "\n",
    "### Mark\n",
    "样本中可能含有单一数据被标记多类情况，使用按权重保留策略。\n",
    "考虑到抽样的动态规划特性，无法满足既定等，所以，仅设定抽样区间范围。"
   ],
   "id": "eb68dc3b8bed8f08"
  },
  {
   "metadata": {
    "ExecuteTime": {
     "end_time": "2025-06-18T10:44:19.362540Z",
     "start_time": "2025-06-18T10:44:19.360907Z"
    }
   },
   "cell_type": "code",
   "source": [
    "# 分类标签样本数\n",
    "# technical\t47,410\n",
    "# payment\t39,851\n",
    "# delivery\t60,139\n",
    "# account\t6,060\n",
    "# service\t32,386\n",
    "# pricing\t2,687\n",
    "# legal\t    5,499\n"
   ],
   "id": "503b5fe7443f566f",
   "outputs": [],
   "execution_count": 14
  },
  {
   "metadata": {},
   "cell_type": "markdown",
   "source": [
    "Step 1: 计算占比\n",
    "| **Label** | **候选池数量**   | **占比（%）** |\n",
    "|-----------|-------------|-----------|\n",
    "| technical | 47,410      | 25.2%     |\n",
    "| payment   | 39,851      | 21.2%     |\n",
    "| delivery  | 60,139      | 31.9%     |\n",
    "| account   | 6,060       | 3.2%      |\n",
    "| service   | 32,386      | 17.2%     |\n",
    "| pricing   | 2,687       | 1.4%      |\n",
    "| legal     | 5,499       | 2.9%      |\n",
    "| **合计**    | **194,032** | **100%**  |\n",
    "\n",
    "<br>\n",
    "Step 2: 目标采样数量（假设总样本为 7500）\n",
    "\n",
    "x 7500 得出建议采样数：\n",
    "\n",
    "| **Label** | **占比**   | **建议采样数** |\n",
    "|-----------|----------|-----------|\n",
    "| technical | 25.2%    | 1890      |\n",
    "| payment   | 21.2%    | 1590      |\n",
    "| delivery  | 31.9%    | 2390      |\n",
    "| account   | 3.2%     | 240       |\n",
    "| service   | 17.2%    | 1290      |\n",
    "| pricing   | 1.4%     | 105       |\n",
    "| legal     | 2.9%     | 220       |\n",
    "| **合计**    | **7725** |           |\n",
    "\n",
    "\n"
   ],
   "id": "c041b50ca02e7832"
  },
  {
   "metadata": {
    "ExecuteTime": {
     "end_time": "2025-06-18T16:24:52.131867Z",
     "start_time": "2025-06-18T16:24:52.122893Z"
    }
   },
   "cell_type": "code",
   "source": [
    "df_list = [df_1, df_2, df_3, df_4, df_5, df_6, df_7]\n",
    "\n",
    "# 采样参数参照建议采样数\n",
    "sample_sizes = {\n",
    "    'technical': 1800,\n",
    "    'payment': 1500,\n",
    "    'delivery': 2100,\n",
    "    'account': 300,\n",
    "    'service': 1200,\n",
    "    'pricing': 150,\n",
    "    'legal': 200\n",
    "}\n",
    "\n",
    "# 合并所有数据（并保留原始标签）\n",
    "df_combined = pd.concat(df_list, ignore_index=True)\n",
    "df_combined.head()\n",
    "# 194032"
   ],
   "id": "cb11e14c44666082",
   "outputs": [
    {
     "data": {
      "text/plain": [
       "   tweet_id                                               text      label\n",
       "0       212  @ATVIAssist @115755 I'm trying to buy the digi...  technical\n",
       "1       267  @115768 Jeffrey I am sorry to hear that. If yo...  technical\n",
       "2       323  @1520 @XboxSupport  the 5 app on Xboxes not wo...  technical\n",
       "3       600  @115811 Hi - are you receiving an error messag...  technical\n",
       "4      1161  @TMobileHelp trying to redeem a free tuesday c...  technical"
      ],
      "text/html": [
       "<div>\n",
       "<style scoped>\n",
       "    .dataframe tbody tr th:only-of-type {\n",
       "        vertical-align: middle;\n",
       "    }\n",
       "\n",
       "    .dataframe tbody tr th {\n",
       "        vertical-align: top;\n",
       "    }\n",
       "\n",
       "    .dataframe thead th {\n",
       "        text-align: right;\n",
       "    }\n",
       "</style>\n",
       "<table border=\"1\" class=\"dataframe\">\n",
       "  <thead>\n",
       "    <tr style=\"text-align: right;\">\n",
       "      <th></th>\n",
       "      <th>tweet_id</th>\n",
       "      <th>text</th>\n",
       "      <th>label</th>\n",
       "    </tr>\n",
       "  </thead>\n",
       "  <tbody>\n",
       "    <tr>\n",
       "      <th>0</th>\n",
       "      <td>212</td>\n",
       "      <td>@ATVIAssist @115755 I'm trying to buy the digi...</td>\n",
       "      <td>technical</td>\n",
       "    </tr>\n",
       "    <tr>\n",
       "      <th>1</th>\n",
       "      <td>267</td>\n",
       "      <td>@115768 Jeffrey I am sorry to hear that. If yo...</td>\n",
       "      <td>technical</td>\n",
       "    </tr>\n",
       "    <tr>\n",
       "      <th>2</th>\n",
       "      <td>323</td>\n",
       "      <td>@1520 @XboxSupport  the 5 app on Xboxes not wo...</td>\n",
       "      <td>technical</td>\n",
       "    </tr>\n",
       "    <tr>\n",
       "      <th>3</th>\n",
       "      <td>600</td>\n",
       "      <td>@115811 Hi - are you receiving an error messag...</td>\n",
       "      <td>technical</td>\n",
       "    </tr>\n",
       "    <tr>\n",
       "      <th>4</th>\n",
       "      <td>1161</td>\n",
       "      <td>@TMobileHelp trying to redeem a free tuesday c...</td>\n",
       "      <td>technical</td>\n",
       "    </tr>\n",
       "  </tbody>\n",
       "</table>\n",
       "</div>"
      ]
     },
     "execution_count": 7,
     "metadata": {},
     "output_type": "execute_result"
    }
   ],
   "execution_count": 7
  },
  {
   "metadata": {
    "ExecuteTime": {
     "end_time": "2025-06-18T16:27:59.009154Z",
     "start_time": "2025-06-18T16:27:58.848726Z"
    }
   },
   "cell_type": "code",
   "source": [
    "# 去除重复 tweet_id，只保留优先级高的标签\n",
    "df_distinct = df_combined.sort_values(\n",
    "    by='label',\n",
    "    key=lambda col: col.map(lambda x: RiskLabel[x.upper()].value)\n",
    ")\n",
    "\n",
    "df_distinct = df_distinct.drop_duplicates(subset='tweet_id', keep='first')\n",
    "df_distinct.head()"
   ],
   "id": "92c87b492bcbb18b",
   "outputs": [
    {
     "data": {
      "text/plain": [
       "        tweet_id                                               text  label\n",
       "194031   2987073  @118374 Boycotting Argos; reserved item at hal...  legal\n",
       "190359   1014759  @AmazonHelp Last u are a joke just attract us ...  legal\n",
       "190360   1014763             @AmazonHelp Public must know your scam  legal\n",
       "190361   1014770             @AmazonHelp It's a scam they harras us  legal\n",
       "190362   1015516  @117176 I just received a call from your India...  legal"
      ],
      "text/html": [
       "<div>\n",
       "<style scoped>\n",
       "    .dataframe tbody tr th:only-of-type {\n",
       "        vertical-align: middle;\n",
       "    }\n",
       "\n",
       "    .dataframe tbody tr th {\n",
       "        vertical-align: top;\n",
       "    }\n",
       "\n",
       "    .dataframe thead th {\n",
       "        text-align: right;\n",
       "    }\n",
       "</style>\n",
       "<table border=\"1\" class=\"dataframe\">\n",
       "  <thead>\n",
       "    <tr style=\"text-align: right;\">\n",
       "      <th></th>\n",
       "      <th>tweet_id</th>\n",
       "      <th>text</th>\n",
       "      <th>label</th>\n",
       "    </tr>\n",
       "  </thead>\n",
       "  <tbody>\n",
       "    <tr>\n",
       "      <th>194031</th>\n",
       "      <td>2987073</td>\n",
       "      <td>@118374 Boycotting Argos; reserved item at hal...</td>\n",
       "      <td>legal</td>\n",
       "    </tr>\n",
       "    <tr>\n",
       "      <th>190359</th>\n",
       "      <td>1014759</td>\n",
       "      <td>@AmazonHelp Last u are a joke just attract us ...</td>\n",
       "      <td>legal</td>\n",
       "    </tr>\n",
       "    <tr>\n",
       "      <th>190360</th>\n",
       "      <td>1014763</td>\n",
       "      <td>@AmazonHelp Public must know your scam</td>\n",
       "      <td>legal</td>\n",
       "    </tr>\n",
       "    <tr>\n",
       "      <th>190361</th>\n",
       "      <td>1014770</td>\n",
       "      <td>@AmazonHelp It's a scam they harras us</td>\n",
       "      <td>legal</td>\n",
       "    </tr>\n",
       "    <tr>\n",
       "      <th>190362</th>\n",
       "      <td>1015516</td>\n",
       "      <td>@117176 I just received a call from your India...</td>\n",
       "      <td>legal</td>\n",
       "    </tr>\n",
       "  </tbody>\n",
       "</table>\n",
       "</div>"
      ]
     },
     "execution_count": 9,
     "metadata": {},
     "output_type": "execute_result"
    }
   ],
   "execution_count": 9
  },
  {
   "metadata": {
    "ExecuteTime": {
     "end_time": "2025-06-18T16:28:33.069547Z",
     "start_time": "2025-06-18T16:28:32.933529Z"
    }
   },
   "cell_type": "code",
   "source": [
    "df_sample = sample_and_clean_enum(df_distinct, sample_sizes)\n",
    "df_sample.head()\n",
    "# 7250"
   ],
   "id": "6a7d6c366a3ae5c6",
   "outputs": [
    {
     "data": {
      "text/plain": [
       "   tweet_id                                               text      label\n",
       "0   1553020  @480508 @480507 @480506 @XboxSupport It worked...  technical\n",
       "1    433087  UPDATE iOS 11.0.2 😤 iPHONE IS EXTREMELY SLOW N...  technical\n",
       "2   2093386  @467250  Sorry for the inconvenience. Do you s...  technical\n",
       "3    401610  @210972 I'm sorry for the trouble. Have you tr...  technical\n",
       "4    326051  @193675 We're sorry that you are seeing errors...  technical"
      ],
      "text/html": [
       "<div>\n",
       "<style scoped>\n",
       "    .dataframe tbody tr th:only-of-type {\n",
       "        vertical-align: middle;\n",
       "    }\n",
       "\n",
       "    .dataframe tbody tr th {\n",
       "        vertical-align: top;\n",
       "    }\n",
       "\n",
       "    .dataframe thead th {\n",
       "        text-align: right;\n",
       "    }\n",
       "</style>\n",
       "<table border=\"1\" class=\"dataframe\">\n",
       "  <thead>\n",
       "    <tr style=\"text-align: right;\">\n",
       "      <th></th>\n",
       "      <th>tweet_id</th>\n",
       "      <th>text</th>\n",
       "      <th>label</th>\n",
       "    </tr>\n",
       "  </thead>\n",
       "  <tbody>\n",
       "    <tr>\n",
       "      <th>0</th>\n",
       "      <td>1553020</td>\n",
       "      <td>@480508 @480507 @480506 @XboxSupport It worked...</td>\n",
       "      <td>technical</td>\n",
       "    </tr>\n",
       "    <tr>\n",
       "      <th>1</th>\n",
       "      <td>433087</td>\n",
       "      <td>UPDATE iOS 11.0.2 😤 iPHONE IS EXTREMELY SLOW N...</td>\n",
       "      <td>technical</td>\n",
       "    </tr>\n",
       "    <tr>\n",
       "      <th>2</th>\n",
       "      <td>2093386</td>\n",
       "      <td>@467250  Sorry for the inconvenience. Do you s...</td>\n",
       "      <td>technical</td>\n",
       "    </tr>\n",
       "    <tr>\n",
       "      <th>3</th>\n",
       "      <td>401610</td>\n",
       "      <td>@210972 I'm sorry for the trouble. Have you tr...</td>\n",
       "      <td>technical</td>\n",
       "    </tr>\n",
       "    <tr>\n",
       "      <th>4</th>\n",
       "      <td>326051</td>\n",
       "      <td>@193675 We're sorry that you are seeing errors...</td>\n",
       "      <td>technical</td>\n",
       "    </tr>\n",
       "  </tbody>\n",
       "</table>\n",
       "</div>"
      ]
     },
     "execution_count": 11,
     "metadata": {},
     "output_type": "execute_result"
    }
   ],
   "execution_count": 11
  },
  {
   "metadata": {
    "ExecuteTime": {
     "end_time": "2025-06-18T16:29:03.299267Z",
     "start_time": "2025-06-18T16:29:03.293898Z"
    }
   },
   "cell_type": "code",
   "source": [
    "# 样本分布，与原始数据集分布保持一致，表现良好\n",
    "df_sample['label'].value_counts()"
   ],
   "id": "6bf3e302dc8433e4",
   "outputs": [
    {
     "data": {
      "text/plain": [
       "label\n",
       "delivery     2100\n",
       "technical    1800\n",
       "payment      1500\n",
       "service      1200\n",
       "account       300\n",
       "legal         200\n",
       "pricing       150\n",
       "Name: count, dtype: int64"
      ]
     },
     "execution_count": 12,
     "metadata": {},
     "output_type": "execute_result"
    }
   ],
   "execution_count": 12
  },
  {
   "metadata": {
    "ExecuteTime": {
     "end_time": "2025-06-18T16:31:47.621928Z",
     "start_time": "2025-06-18T16:31:47.574380Z"
    }
   },
   "cell_type": "code",
   "source": "df_sample.to_csv(f\"{ASSETS}labeled_L2__bucket_sampled.csv\", index=False, encoding='utf-8-sig')",
   "id": "b82a31a3e0901000",
   "outputs": [],
   "execution_count": 13
  }
 ],
 "metadata": {
  "kernelspec": {
   "display_name": "Python 3",
   "language": "python",
   "name": "python3"
  },
  "language_info": {
   "codemirror_mode": {
    "name": "ipython",
    "version": 2
   },
   "file_extension": ".py",
   "mimetype": "text/x-python",
   "name": "python",
   "nbconvert_exporter": "python",
   "pygments_lexer": "ipython2",
   "version": "2.7.6"
  }
 },
 "nbformat": 4,
 "nbformat_minor": 5
}
