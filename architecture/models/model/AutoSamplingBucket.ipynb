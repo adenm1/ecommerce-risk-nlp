{
 "cells": [
  {
   "metadata": {},
   "cell_type": "markdown",
   "source": "# 分桶采样",
   "id": "39766cf4c3c84dff"
  },
  {
   "cell_type": "code",
   "id": "initial_id",
   "metadata": {
    "collapsed": true,
    "ExecuteTime": {
     "end_time": "2025-06-24T11:03:13.913932Z",
     "start_time": "2025-06-24T11:03:13.911024Z"
    }
   },
   "source": "from utils import *",
   "outputs": [
    {
     "name": "stdout",
     "output_type": "stream",
     "text": [
      "Done! Loaded utils.py\n"
     ]
    }
   ],
   "execution_count": 1
  },
  {
   "metadata": {
    "ExecuteTime": {
     "end_time": "2025-06-24T11:03:15.297933Z",
     "start_time": "2025-06-24T11:03:14.977296Z"
    }
   },
   "cell_type": "code",
   "source": [
    "df_1 = pd.read_csv(f'{ASSETS}labeled_L2__1_technical.csv')\n",
    "df_2 = pd.read_csv(f'{ASSETS}labeled_L2__2_payment.csv')\n",
    "df_3 = pd.read_csv(f'{ASSETS}labeled_L2__3_delivery.csv')\n",
    "df_4 = pd.read_csv(f'{ASSETS}labeled_L2__4_account.csv')\n",
    "df_5 = pd.read_csv(f'{ASSETS}labeled_L2__5_service.csv')\n",
    "df_6 = pd.read_csv(f'{ASSETS}labeled_L2__6_pricing.csv')\n",
    "df_7 = pd.read_csv(f'{ASSETS}labeled_L2__7_legal.csv')"
   ],
   "id": "fbd86326f4a080b1",
   "outputs": [],
   "execution_count": 2
  },
  {
   "metadata": {},
   "cell_type": "markdown",
   "source": [
    "# 计划和实际采样比\n",
    "# 分类标签样本数\n",
    "## 计划采样7500\n",
    "样本中可能含有单一数据被标记多类情况，使用按权重保留策略。\n",
    "\n",
    "| **Label** | **Bucket**  | **Sampling** | **%**    |\n",
    "|-----------|-------------|--------------|----------|\n",
    "| legal     | 5,499       | 220          | 2.9%     |\n",
    "| account   | 6,060       | 240          | 3.2%     |\n",
    "| payment   | 39,851      | 1590         | 21.2%    |\n",
    "| technical | 47,410      | 1890         | 25.2%    |\n",
    "| delivery  | 60,139      | 2390         | 31.9%    |\n",
    "| service   | 32,386      | 1290         | 17.2%    |\n",
    "| pricing   | 2,687       | 105          | 1.4%     |\n",
    "| **Total** | **194,032** | **7725**     | **100%** |\n",
    "\n"
   ],
   "id": "c3798c681ad58ef4"
  },
  {
   "metadata": {
    "ExecuteTime": {
     "end_time": "2025-06-24T11:22:25.243718Z",
     "start_time": "2025-06-24T11:22:25.234641Z"
    }
   },
   "cell_type": "code",
   "source": [
    "df_list = [df_1, df_2, df_3, df_4, df_5, df_6, df_7]\n",
    "\n",
    "sample_sizes = {\n",
    "    'legal': 220,\n",
    "    'account': 240,\n",
    "    'payment': 1590,\n",
    "    'technical': 1890,\n",
    "    'delivery': 2390,\n",
    "    'service': 1290,\n",
    "    'pricing': 105,\n",
    "}\n",
    "\n",
    "# 合并所有数据（并保留原始标签）\n",
    "df_combined = pd.concat(df_list, ignore_index=True)\n",
    "df_combined.head()\n",
    "# 194032"
   ],
   "id": "cb11e14c44666082",
   "outputs": [
    {
     "data": {
      "text/plain": [
       "   tweet_id                                               text      label\n",
       "0       212  @ATVIAssist @115755 I'm trying to buy the digi...  technical\n",
       "1       267  @115768 Jeffrey I am sorry to hear that. If yo...  technical\n",
       "2       323  @1520 @XboxSupport  the 5 app on Xboxes not wo...  technical\n",
       "3       600  @115811 Hi - are you receiving an error messag...  technical\n",
       "4      1161  @TMobileHelp trying to redeem a free tuesday c...  technical"
      ],
      "text/html": [
       "<div>\n",
       "<style scoped>\n",
       "    .dataframe tbody tr th:only-of-type {\n",
       "        vertical-align: middle;\n",
       "    }\n",
       "\n",
       "    .dataframe tbody tr th {\n",
       "        vertical-align: top;\n",
       "    }\n",
       "\n",
       "    .dataframe thead th {\n",
       "        text-align: right;\n",
       "    }\n",
       "</style>\n",
       "<table border=\"1\" class=\"dataframe\">\n",
       "  <thead>\n",
       "    <tr style=\"text-align: right;\">\n",
       "      <th></th>\n",
       "      <th>tweet_id</th>\n",
       "      <th>text</th>\n",
       "      <th>label</th>\n",
       "    </tr>\n",
       "  </thead>\n",
       "  <tbody>\n",
       "    <tr>\n",
       "      <th>0</th>\n",
       "      <td>212</td>\n",
       "      <td>@ATVIAssist @115755 I'm trying to buy the digi...</td>\n",
       "      <td>technical</td>\n",
       "    </tr>\n",
       "    <tr>\n",
       "      <th>1</th>\n",
       "      <td>267</td>\n",
       "      <td>@115768 Jeffrey I am sorry to hear that. If yo...</td>\n",
       "      <td>technical</td>\n",
       "    </tr>\n",
       "    <tr>\n",
       "      <th>2</th>\n",
       "      <td>323</td>\n",
       "      <td>@1520 @XboxSupport  the 5 app on Xboxes not wo...</td>\n",
       "      <td>technical</td>\n",
       "    </tr>\n",
       "    <tr>\n",
       "      <th>3</th>\n",
       "      <td>600</td>\n",
       "      <td>@115811 Hi - are you receiving an error messag...</td>\n",
       "      <td>technical</td>\n",
       "    </tr>\n",
       "    <tr>\n",
       "      <th>4</th>\n",
       "      <td>1161</td>\n",
       "      <td>@TMobileHelp trying to redeem a free tuesday c...</td>\n",
       "      <td>technical</td>\n",
       "    </tr>\n",
       "  </tbody>\n",
       "</table>\n",
       "</div>"
      ]
     },
     "execution_count": 12,
     "metadata": {},
     "output_type": "execute_result"
    }
   ],
   "execution_count": 12
  },
  {
   "metadata": {
    "ExecuteTime": {
     "end_time": "2025-06-24T11:22:56.230093Z",
     "start_time": "2025-06-24T11:22:56.084202Z"
    }
   },
   "cell_type": "code",
   "source": [
    "# 去除重复 tweet_id，只保留优先级高的标签\n",
    "df_distinct = df_combined.sort_values(\n",
    "    by='label',\n",
    "    key=lambda col: col.map(lambda x: RiskLabel[x.upper()].value)\n",
    ")\n",
    "\n",
    "df_distinct = df_distinct.drop_duplicates(subset='tweet_id', keep='first')\n",
    "df_distinct.head()"
   ],
   "id": "92c87b492bcbb18b",
   "outputs": [
    {
     "data": {
      "text/plain": [
       "        tweet_id                                               text  label\n",
       "194031   2987073  @118374 Boycotting Argos; reserved item at hal...  legal\n",
       "190359   1014759  @AmazonHelp Last u are a joke just attract us ...  legal\n",
       "190360   1014763             @AmazonHelp Public must know your scam  legal\n",
       "190361   1014770             @AmazonHelp It's a scam they harras us  legal\n",
       "190362   1015516  @117176 I just received a call from your India...  legal"
      ],
      "text/html": [
       "<div>\n",
       "<style scoped>\n",
       "    .dataframe tbody tr th:only-of-type {\n",
       "        vertical-align: middle;\n",
       "    }\n",
       "\n",
       "    .dataframe tbody tr th {\n",
       "        vertical-align: top;\n",
       "    }\n",
       "\n",
       "    .dataframe thead th {\n",
       "        text-align: right;\n",
       "    }\n",
       "</style>\n",
       "<table border=\"1\" class=\"dataframe\">\n",
       "  <thead>\n",
       "    <tr style=\"text-align: right;\">\n",
       "      <th></th>\n",
       "      <th>tweet_id</th>\n",
       "      <th>text</th>\n",
       "      <th>label</th>\n",
       "    </tr>\n",
       "  </thead>\n",
       "  <tbody>\n",
       "    <tr>\n",
       "      <th>194031</th>\n",
       "      <td>2987073</td>\n",
       "      <td>@118374 Boycotting Argos; reserved item at hal...</td>\n",
       "      <td>legal</td>\n",
       "    </tr>\n",
       "    <tr>\n",
       "      <th>190359</th>\n",
       "      <td>1014759</td>\n",
       "      <td>@AmazonHelp Last u are a joke just attract us ...</td>\n",
       "      <td>legal</td>\n",
       "    </tr>\n",
       "    <tr>\n",
       "      <th>190360</th>\n",
       "      <td>1014763</td>\n",
       "      <td>@AmazonHelp Public must know your scam</td>\n",
       "      <td>legal</td>\n",
       "    </tr>\n",
       "    <tr>\n",
       "      <th>190361</th>\n",
       "      <td>1014770</td>\n",
       "      <td>@AmazonHelp It's a scam they harras us</td>\n",
       "      <td>legal</td>\n",
       "    </tr>\n",
       "    <tr>\n",
       "      <th>190362</th>\n",
       "      <td>1015516</td>\n",
       "      <td>@117176 I just received a call from your India...</td>\n",
       "      <td>legal</td>\n",
       "    </tr>\n",
       "  </tbody>\n",
       "</table>\n",
       "</div>"
      ]
     },
     "execution_count": 13,
     "metadata": {},
     "output_type": "execute_result"
    }
   ],
   "execution_count": 13
  },
  {
   "metadata": {
    "ExecuteTime": {
     "end_time": "2025-06-24T11:23:46.163766Z",
     "start_time": "2025-06-24T11:23:46.037092Z"
    }
   },
   "cell_type": "code",
   "source": [
    "df_sample = sample_and_clean_enum(df_distinct, sample_sizes)\n",
    "df_sample.head()\n",
    "# 7250"
   ],
   "id": "6a7d6c366a3ae5c6",
   "outputs": [
    {
     "data": {
      "text/plain": [
       "   tweet_id                                               text  label\n",
       "0   2167038  #Netflix members, beware: Don’t get tricked by...  legal\n",
       "1   1696874  @AppleSupport Just saying, but next time I won...  legal\n",
       "2     46005  @115714 should fire every last call center wor...  legal\n",
       "3   2885597  @115783 @AirbnbHelp \\nSeems now you don’t have...  legal\n",
       "4    989846  @AmazonHelp I had excellent exp with amazon in...  legal"
      ],
      "text/html": [
       "<div>\n",
       "<style scoped>\n",
       "    .dataframe tbody tr th:only-of-type {\n",
       "        vertical-align: middle;\n",
       "    }\n",
       "\n",
       "    .dataframe tbody tr th {\n",
       "        vertical-align: top;\n",
       "    }\n",
       "\n",
       "    .dataframe thead th {\n",
       "        text-align: right;\n",
       "    }\n",
       "</style>\n",
       "<table border=\"1\" class=\"dataframe\">\n",
       "  <thead>\n",
       "    <tr style=\"text-align: right;\">\n",
       "      <th></th>\n",
       "      <th>tweet_id</th>\n",
       "      <th>text</th>\n",
       "      <th>label</th>\n",
       "    </tr>\n",
       "  </thead>\n",
       "  <tbody>\n",
       "    <tr>\n",
       "      <th>0</th>\n",
       "      <td>2167038</td>\n",
       "      <td>#Netflix members, beware: Don’t get tricked by...</td>\n",
       "      <td>legal</td>\n",
       "    </tr>\n",
       "    <tr>\n",
       "      <th>1</th>\n",
       "      <td>1696874</td>\n",
       "      <td>@AppleSupport Just saying, but next time I won...</td>\n",
       "      <td>legal</td>\n",
       "    </tr>\n",
       "    <tr>\n",
       "      <th>2</th>\n",
       "      <td>46005</td>\n",
       "      <td>@115714 should fire every last call center wor...</td>\n",
       "      <td>legal</td>\n",
       "    </tr>\n",
       "    <tr>\n",
       "      <th>3</th>\n",
       "      <td>2885597</td>\n",
       "      <td>@115783 @AirbnbHelp \\nSeems now you don’t have...</td>\n",
       "      <td>legal</td>\n",
       "    </tr>\n",
       "    <tr>\n",
       "      <th>4</th>\n",
       "      <td>989846</td>\n",
       "      <td>@AmazonHelp I had excellent exp with amazon in...</td>\n",
       "      <td>legal</td>\n",
       "    </tr>\n",
       "  </tbody>\n",
       "</table>\n",
       "</div>"
      ]
     },
     "execution_count": 14,
     "metadata": {},
     "output_type": "execute_result"
    }
   ],
   "execution_count": 14
  },
  {
   "metadata": {
    "ExecuteTime": {
     "end_time": "2025-06-24T11:23:57.379928Z",
     "start_time": "2025-06-24T11:23:57.375449Z"
    }
   },
   "cell_type": "code",
   "source": [
    "# 样本分布，与原始数据集分布保持一致，表现良好\n",
    "df_sample['label'].value_counts()"
   ],
   "id": "6bf3e302dc8433e4",
   "outputs": [
    {
     "data": {
      "text/plain": [
       "label\n",
       "delivery     2390\n",
       "technical    1890\n",
       "payment      1590\n",
       "service      1290\n",
       "account       240\n",
       "legal         220\n",
       "pricing       105\n",
       "Name: count, dtype: int64"
      ]
     },
     "execution_count": 15,
     "metadata": {},
     "output_type": "execute_result"
    }
   ],
   "execution_count": 15
  },
  {
   "metadata": {},
   "cell_type": "markdown",
   "source": "",
   "id": "11255f9cb512bf36"
  },
  {
   "metadata": {
    "ExecuteTime": {
     "end_time": "2025-06-24T11:25:28.406277Z",
     "start_time": "2025-06-24T11:25:28.356901Z"
    }
   },
   "cell_type": "code",
   "source": "df_sample.to_csv(f\"{ASSETS}labeled_L2__bucket_sampled.csv\", index=False, encoding='utf-8-sig')",
   "id": "b82a31a3e0901000",
   "outputs": [],
   "execution_count": 16
  }
 ],
 "metadata": {
  "kernelspec": {
   "display_name": "Python 3",
   "language": "python",
   "name": "python3"
  },
  "language_info": {
   "codemirror_mode": {
    "name": "ipython",
    "version": 2
   },
   "file_extension": ".py",
   "mimetype": "text/x-python",
   "name": "python",
   "nbconvert_exporter": "python",
   "pygments_lexer": "ipython2",
   "version": "2.7.6"
  }
 },
 "nbformat": 4,
 "nbformat_minor": 5
}
