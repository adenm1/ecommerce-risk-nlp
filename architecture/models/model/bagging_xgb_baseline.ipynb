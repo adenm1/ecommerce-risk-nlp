{
 "cells": [
  {
   "metadata": {
    "ExecuteTime": {
     "end_time": "2025-06-23T16:07:36.898782Z",
     "start_time": "2025-06-23T16:07:36.097795Z"
    }
   },
   "cell_type": "code",
   "source": [
    "import pandas as pd, re, numpy as np\n",
    "from sklearn.model_selection import train_test_split\n",
    "from sklearn.feature_extraction.text import TfidfVectorizer\n",
    "from sklearn.pipeline import make_pipeline\n",
    "from sklearn.ensemble import BaggingClassifier\n",
    "from xgboost import XGBClassifier\n",
    "from sklearn.metrics import classification_report, confusion_matrix\n",
    "import seaborn as sns, matplotlib.pyplot as plt\n",
    "\n",
    "sns.set_theme(style=\"whitegrid\")\n",
    "np.random.seed(42)"
   ],
   "id": "25b51f351c0fc041",
   "outputs": [],
   "execution_count": 9
  },
  {
   "metadata": {},
   "cell_type": "markdown",
   "source": [
    "# Part 1 Pre-Processing\n",
    "\n",
    "## Labeling Sample\n",
    "\n",
    "| seq | text                                                                                                                                                         | label     |\n",
    "|-----|--------------------------------------------------------------------------------------------------------------------------------------------------------------|-----------|\n",
    "| 74  | @116062: will you create a “disaster registry” where fire victims can pick the items they need and anyone can fill them? Offer discounts?                    | pricing   |\n",
    "| 75  | \"@AppleSupport Freezing basically all of the time. Apps are messing up, if i turn on airplane mode and then turn it off i can’t get service without restart\" | technical |\n",
    "| 76  | @VirginTrains I’ve lost my tkt back to Wilmslow. I’ve got receipt and it’s on my app but your staff tell me too bad. Surely not right??                      | technical |\n",
    "| 77  | @AmazonHelp I ordered a package to be delivered tomorrow but I’ve had a notification saying it’ll be a day late now                                          | delivery  |\n",
    "| 78  | \"@AmazonHelp prime membership says it’s suspended, updated payment method but still says it’s suspended? How do I fix it to get Prime back?\"                 | payment   |\n"
   ],
   "id": "b8670812108baf75"
  },
  {
   "metadata": {},
   "cell_type": "markdown",
   "source": [
    "### 这是弱标记数据\n",
    "#### 使用 utils.py.auto_label_by_keywords 方法标注"
   ],
   "id": "855100ef3836649f"
  },
  {
   "metadata": {
    "ExecuteTime": {
     "end_time": "2025-06-23T16:01:53.587485Z",
     "start_time": "2025-06-23T16:01:53.555116Z"
    }
   },
   "cell_type": "code",
   "source": [
    "df = pd.read_csv(\"../../assets/labeled_L2__bucket_sampled.csv\")\n",
    "df.head(10)"
   ],
   "id": "c691b81b9f6621ff",
   "outputs": [
    {
     "data": {
      "text/plain": [
       "   tweet_id                                               text      label\n",
       "0   1553020  @480508 @480507 @480506 @XboxSupport It worked...  technical\n",
       "1    433087  UPDATE iOS 11.0.2 😤 iPHONE IS EXTREMELY SLOW N...  technical\n",
       "2   2093386  @467250  Sorry for the inconvenience. Do you s...  technical\n",
       "3    401610  @210972 I'm sorry for the trouble. Have you tr...  technical\n",
       "4    326051  @193675 We're sorry that you are seeing errors...  technical\n",
       "5   1278976  @129201 Being a part of customer support, we'l...  technical\n",
       "6   1039468  can i ask, why would #Windows10FallCreatorsUpd...  technical\n",
       "7   2035663  @ATVIAssist Ummm, ok. The error pops up when i...  technical\n",
       "8   1739395  @524944 Hi there. I regret the delay. Even wit...  technical\n",
       "9   2596906  @AskPlayStation I’ve done everything and nothi...  technical"
      ],
      "text/html": [
       "<div>\n",
       "<style scoped>\n",
       "    .dataframe tbody tr th:only-of-type {\n",
       "        vertical-align: middle;\n",
       "    }\n",
       "\n",
       "    .dataframe tbody tr th {\n",
       "        vertical-align: top;\n",
       "    }\n",
       "\n",
       "    .dataframe thead th {\n",
       "        text-align: right;\n",
       "    }\n",
       "</style>\n",
       "<table border=\"1\" class=\"dataframe\">\n",
       "  <thead>\n",
       "    <tr style=\"text-align: right;\">\n",
       "      <th></th>\n",
       "      <th>tweet_id</th>\n",
       "      <th>text</th>\n",
       "      <th>label</th>\n",
       "    </tr>\n",
       "  </thead>\n",
       "  <tbody>\n",
       "    <tr>\n",
       "      <th>0</th>\n",
       "      <td>1553020</td>\n",
       "      <td>@480508 @480507 @480506 @XboxSupport It worked...</td>\n",
       "      <td>technical</td>\n",
       "    </tr>\n",
       "    <tr>\n",
       "      <th>1</th>\n",
       "      <td>433087</td>\n",
       "      <td>UPDATE iOS 11.0.2 😤 iPHONE IS EXTREMELY SLOW N...</td>\n",
       "      <td>technical</td>\n",
       "    </tr>\n",
       "    <tr>\n",
       "      <th>2</th>\n",
       "      <td>2093386</td>\n",
       "      <td>@467250  Sorry for the inconvenience. Do you s...</td>\n",
       "      <td>technical</td>\n",
       "    </tr>\n",
       "    <tr>\n",
       "      <th>3</th>\n",
       "      <td>401610</td>\n",
       "      <td>@210972 I'm sorry for the trouble. Have you tr...</td>\n",
       "      <td>technical</td>\n",
       "    </tr>\n",
       "    <tr>\n",
       "      <th>4</th>\n",
       "      <td>326051</td>\n",
       "      <td>@193675 We're sorry that you are seeing errors...</td>\n",
       "      <td>technical</td>\n",
       "    </tr>\n",
       "    <tr>\n",
       "      <th>5</th>\n",
       "      <td>1278976</td>\n",
       "      <td>@129201 Being a part of customer support, we'l...</td>\n",
       "      <td>technical</td>\n",
       "    </tr>\n",
       "    <tr>\n",
       "      <th>6</th>\n",
       "      <td>1039468</td>\n",
       "      <td>can i ask, why would #Windows10FallCreatorsUpd...</td>\n",
       "      <td>technical</td>\n",
       "    </tr>\n",
       "    <tr>\n",
       "      <th>7</th>\n",
       "      <td>2035663</td>\n",
       "      <td>@ATVIAssist Ummm, ok. The error pops up when i...</td>\n",
       "      <td>technical</td>\n",
       "    </tr>\n",
       "    <tr>\n",
       "      <th>8</th>\n",
       "      <td>1739395</td>\n",
       "      <td>@524944 Hi there. I regret the delay. Even wit...</td>\n",
       "      <td>technical</td>\n",
       "    </tr>\n",
       "    <tr>\n",
       "      <th>9</th>\n",
       "      <td>2596906</td>\n",
       "      <td>@AskPlayStation I’ve done everything and nothi...</td>\n",
       "      <td>technical</td>\n",
       "    </tr>\n",
       "  </tbody>\n",
       "</table>\n",
       "</div>"
      ]
     },
     "execution_count": 2,
     "metadata": {},
     "output_type": "execute_result"
    }
   ],
   "execution_count": 2
  },
  {
   "cell_type": "code",
   "id": "initial_id",
   "metadata": {
    "collapsed": true,
    "ExecuteTime": {
     "end_time": "2025-06-23T16:02:27.492864Z",
     "start_time": "2025-06-23T16:02:27.490297Z"
    }
   },
   "source": [
    "def clean_text(txt):\n",
    "    txt = txt.lower()\n",
    "    txt = re.sub(r\"http\\S+\", \"\", txt)  # remove URLs\n",
    "    txt = re.sub(r\"@\\w+\", \"\", txt)  # remove @handles\n",
    "    txt = re.sub(r\"[^a-z\\s]\", \" \", txt)  # keep only letters and spaces\n",
    "    txt = re.sub(r\"\\s+\", \" \", txt).strip()  # collapse multiple spaces\n",
    "\n",
    "    return txt"
   ],
   "outputs": [],
   "execution_count": 5
  },
  {
   "metadata": {},
   "cell_type": "markdown",
   "source": "清洗读取进来的数据",
   "id": "347e560bd0dba6c0"
  },
  {
   "metadata": {
    "ExecuteTime": {
     "end_time": "2025-06-23T16:03:28.510998Z",
     "start_time": "2025-06-23T16:03:28.455439Z"
    }
   },
   "cell_type": "code",
   "source": [
    "df[\"clean_text\"] = df[\"text\"].astype(str).apply(clean_text)\n",
    "df.head(10)"
   ],
   "id": "1a6bc4630061f6cf",
   "outputs": [
    {
     "data": {
      "text/plain": [
       "   tweet_id                                               text      label  \\\n",
       "0   1553020  @480508 @480507 @480506 @XboxSupport It worked...  technical   \n",
       "1    433087  UPDATE iOS 11.0.2 😤 iPHONE IS EXTREMELY SLOW N...  technical   \n",
       "2   2093386  @467250  Sorry for the inconvenience. Do you s...  technical   \n",
       "3    401610  @210972 I'm sorry for the trouble. Have you tr...  technical   \n",
       "4    326051  @193675 We're sorry that you are seeing errors...  technical   \n",
       "5   1278976  @129201 Being a part of customer support, we'l...  technical   \n",
       "6   1039468  can i ask, why would #Windows10FallCreatorsUpd...  technical   \n",
       "7   2035663  @ATVIAssist Ummm, ok. The error pops up when i...  technical   \n",
       "8   1739395  @524944 Hi there. I regret the delay. Even wit...  technical   \n",
       "9   2596906  @AskPlayStation I’ve done everything and nothi...  technical   \n",
       "\n",
       "                                          clean_text  \n",
       "0  it worked in the morning i just got home and a...  \n",
       "1  update ios iphone is extremely slow now freezi...  \n",
       "2  sorry for the inconvenience do you see any kin...  \n",
       "3  i m sorry for the trouble have you tried delet...  \n",
       "4  we re sorry that you are seeing errors what de...  \n",
       "5  being a part of customer support we ll be unab...  \n",
       "6  can i ask why would windows fallcreatorsupdate...  \n",
       "7  ummm ok the error pops up when it try choose z...  \n",
       "8  hi there i regret the delay even with the erro...  \n",
       "9  i ve done everything and nothing will work i v...  "
      ],
      "text/html": [
       "<div>\n",
       "<style scoped>\n",
       "    .dataframe tbody tr th:only-of-type {\n",
       "        vertical-align: middle;\n",
       "    }\n",
       "\n",
       "    .dataframe tbody tr th {\n",
       "        vertical-align: top;\n",
       "    }\n",
       "\n",
       "    .dataframe thead th {\n",
       "        text-align: right;\n",
       "    }\n",
       "</style>\n",
       "<table border=\"1\" class=\"dataframe\">\n",
       "  <thead>\n",
       "    <tr style=\"text-align: right;\">\n",
       "      <th></th>\n",
       "      <th>tweet_id</th>\n",
       "      <th>text</th>\n",
       "      <th>label</th>\n",
       "      <th>clean_text</th>\n",
       "    </tr>\n",
       "  </thead>\n",
       "  <tbody>\n",
       "    <tr>\n",
       "      <th>0</th>\n",
       "      <td>1553020</td>\n",
       "      <td>@480508 @480507 @480506 @XboxSupport It worked...</td>\n",
       "      <td>technical</td>\n",
       "      <td>it worked in the morning i just got home and a...</td>\n",
       "    </tr>\n",
       "    <tr>\n",
       "      <th>1</th>\n",
       "      <td>433087</td>\n",
       "      <td>UPDATE iOS 11.0.2 😤 iPHONE IS EXTREMELY SLOW N...</td>\n",
       "      <td>technical</td>\n",
       "      <td>update ios iphone is extremely slow now freezi...</td>\n",
       "    </tr>\n",
       "    <tr>\n",
       "      <th>2</th>\n",
       "      <td>2093386</td>\n",
       "      <td>@467250  Sorry for the inconvenience. Do you s...</td>\n",
       "      <td>technical</td>\n",
       "      <td>sorry for the inconvenience do you see any kin...</td>\n",
       "    </tr>\n",
       "    <tr>\n",
       "      <th>3</th>\n",
       "      <td>401610</td>\n",
       "      <td>@210972 I'm sorry for the trouble. Have you tr...</td>\n",
       "      <td>technical</td>\n",
       "      <td>i m sorry for the trouble have you tried delet...</td>\n",
       "    </tr>\n",
       "    <tr>\n",
       "      <th>4</th>\n",
       "      <td>326051</td>\n",
       "      <td>@193675 We're sorry that you are seeing errors...</td>\n",
       "      <td>technical</td>\n",
       "      <td>we re sorry that you are seeing errors what de...</td>\n",
       "    </tr>\n",
       "    <tr>\n",
       "      <th>5</th>\n",
       "      <td>1278976</td>\n",
       "      <td>@129201 Being a part of customer support, we'l...</td>\n",
       "      <td>technical</td>\n",
       "      <td>being a part of customer support we ll be unab...</td>\n",
       "    </tr>\n",
       "    <tr>\n",
       "      <th>6</th>\n",
       "      <td>1039468</td>\n",
       "      <td>can i ask, why would #Windows10FallCreatorsUpd...</td>\n",
       "      <td>technical</td>\n",
       "      <td>can i ask why would windows fallcreatorsupdate...</td>\n",
       "    </tr>\n",
       "    <tr>\n",
       "      <th>7</th>\n",
       "      <td>2035663</td>\n",
       "      <td>@ATVIAssist Ummm, ok. The error pops up when i...</td>\n",
       "      <td>technical</td>\n",
       "      <td>ummm ok the error pops up when it try choose z...</td>\n",
       "    </tr>\n",
       "    <tr>\n",
       "      <th>8</th>\n",
       "      <td>1739395</td>\n",
       "      <td>@524944 Hi there. I regret the delay. Even wit...</td>\n",
       "      <td>technical</td>\n",
       "      <td>hi there i regret the delay even with the erro...</td>\n",
       "    </tr>\n",
       "    <tr>\n",
       "      <th>9</th>\n",
       "      <td>2596906</td>\n",
       "      <td>@AskPlayStation I’ve done everything and nothi...</td>\n",
       "      <td>technical</td>\n",
       "      <td>i ve done everything and nothing will work i v...</td>\n",
       "    </tr>\n",
       "  </tbody>\n",
       "</table>\n",
       "</div>"
      ]
     },
     "execution_count": 6,
     "metadata": {},
     "output_type": "execute_result"
    }
   ],
   "execution_count": 6
  },
  {
   "metadata": {},
   "cell_type": "markdown",
   "source": "# Part 2 划分训练/测试集",
   "id": "fe51b6531b7ddbd2"
  },
  {
   "metadata": {
    "ExecuteTime": {
     "end_time": "2025-06-23T16:35:53.986343Z",
     "start_time": "2025-06-23T16:35:53.976351Z"
    }
   },
   "cell_type": "code",
   "source": [
    "from sklearn.preprocessing import LabelEncoder\n",
    "# XGBClassifier 要求 y 是整数\n",
    "le = LabelEncoder()\n",
    "df[\"label_enc\"] = le.fit_transform(df[\"label\"])\n",
    "print(df[['label', 'label_enc']])\n",
    "\n",
    "X_tr, X_te, y_tr, y_te = train_test_split(\n",
    "    df[\"clean_text\"], df[\"label_enc\"],\n",
    "    test_size=0.2, stratify=df[\"label_enc\"], random_state=42)\n",
    "\n",
    "print(\"Train size :\", len(X_tr), \" | Test size: \", len(X_te))\n",
    "\n",
    "# Train size : 5800  | Test size:  1450"
   ],
   "id": "431cfb595888c9",
   "outputs": [
    {
     "name": "stdout",
     "output_type": "stream",
     "text": [
      "          label  label_enc\n",
      "0     technical          6\n",
      "1     technical          6\n",
      "2     technical          6\n",
      "3     technical          6\n",
      "4     technical          6\n",
      "...         ...        ...\n",
      "7245      legal          2\n",
      "7246      legal          2\n",
      "7247      legal          2\n",
      "7248      legal          2\n",
      "7249      legal          2\n",
      "\n",
      "[7250 rows x 2 columns]\n",
      "Train size : 5800  | Test size:  1450\n"
     ]
    }
   ],
   "execution_count": 27
  },
  {
   "metadata": {},
   "cell_type": "markdown",
   "source": "# Part 3 定义TF-IDF -> XGBoost 基模型",
   "id": "22b6a25fd549f487"
  },
  {
   "metadata": {
    "ExecuteTime": {
     "end_time": "2025-06-23T16:35:18.676458Z",
     "start_time": "2025-06-23T16:35:18.673209Z"
    }
   },
   "cell_type": "code",
   "source": [
    "base_xgb = make_pipeline(\n",
    "    TfidfVectorizer(max_features=3000, stop_words=\"english\"),\n",
    "    XGBClassifier(\n",
    "        objective=\"multi:softprob\",\n",
    "        num_class=y_tr.nunique(),\n",
    "        n_estimators=250,\n",
    "        max_depth=5,\n",
    "        learning_rate=0.1,\n",
    "        subsample=0.8, # 80% sample\n",
    "        colsample_bytree=0.8,\n",
    "        eval_metric=\"mlogloss\",\n",
    "        n_jobs=-1,\n",
    "        random_state=42\n",
    "    )\n",
    ")"
   ],
   "id": "1264809fcbcd1a4a",
   "outputs": [],
   "execution_count": 25
  },
  {
   "metadata": {
    "ExecuteTime": {
     "end_time": "2025-06-23T16:37:35.697088Z",
     "start_time": "2025-06-23T16:36:54.993499Z"
    }
   },
   "cell_type": "code",
   "source": [
    "# 手动 Bagging， 使用 BaggingClassifier报错 Expected 2d array, X_tr, y_tr 是 1d\n",
    "# base_xgb = BaggingClassifier(\n",
    "#     estimator=base_xgb,\n",
    "#     n_estimators=10, # 10 个子模型\n",
    "#     max_samples=0.8, # 每袋 80% 样本\n",
    "#     bootstrap=True,\n",
    "#     n_jobs=-1,\n",
    "#     random_state=42\n",
    "# )\n",
    "# base_xgb.fit(X_tr, y_tr)\n",
    "\n",
    "\n",
    "from collections import Counter\n",
    "\n",
    "N_BAGS = 10\n",
    "SAMPLES = 0.8\n",
    "models = []\n",
    "vecs = []\n",
    "\n",
    "for i in range(N_BAGS) :\n",
    "    # bootstrap 抽样\n",
    "    idx = np.random.choice(len(X_tr), int(len(X_tr)*SAMPLES), replace=True)\n",
    "    X_boot = X_tr.iloc[idx]\n",
    "    y_boot_enc = y_tr.iloc[idx]\n",
    "\n",
    "    # TF-IDF + XGB\n",
    "    vec = TfidfVectorizer(max_features=3000, stop_words='english')\n",
    "    X_boot_vec = vec.fit_transform(X_boot)\n",
    "\n",
    "    clf = XGBClassifier(\n",
    "        objective=\"multi:softprob\",\n",
    "        num_class=y_tr.nunique(),\n",
    "        n_estimators=250, max_depth=5,\n",
    "        learning_rate=0.1, subsample=0.8, colsample_bytree=0.8,\n",
    "        eval_metric=\"mlogloss\", n_jobs=-1, verbosity=0, random_state=42+i)\n",
    "    clf.fit(X_boot_vec, y_boot_enc)\n",
    "    models.append(clf)\n",
    "    vecs.append(vec)\n",
    "\n",
    "print(\"Done\")"
   ],
   "id": "6edbb7b504556ea9",
   "outputs": [
    {
     "name": "stdout",
     "output_type": "stream",
     "text": [
      "Done\n"
     ]
    }
   ],
   "execution_count": 29
  },
  {
   "metadata": {},
   "cell_type": "markdown",
   "source": "# Part 3 指标评估",
   "id": "f7078c4a789d3efb"
  },
  {
   "metadata": {
    "ExecuteTime": {
     "end_time": "2025-06-23T16:44:45.664938Z",
     "start_time": "2025-06-23T16:44:45.661649Z"
    }
   },
   "cell_type": "code",
   "source": [
    "from scipy.stats import mode\n",
    "\n",
    "def bag_predict(text_series):\n",
    "    \"\"\"\n",
    "    text_series: pd.Series or list[str]\n",
    "    返回 int 标签，和 y_tr 同编码\n",
    "    \"\"\"\n",
    "    preds = [\n",
    "        mdl.predict(vec.transform(text_series))\n",
    "        for mdl, vec in  zip(models, vecs)\n",
    "    ]\n",
    "\n",
    "    preds = np.vstack(preds)\n",
    "\n",
    "    vote_pred, _ = mode(preds, axis=0, keepdims=False)\n",
    "    return vote_pred"
   ],
   "id": "dc80a4fd701429f",
   "outputs": [],
   "execution_count": 30
  },
  {
   "metadata": {
    "ExecuteTime": {
     "end_time": "2025-06-23T16:51:25.923878Z",
     "start_time": "2025-06-23T16:51:25.569568Z"
    }
   },
   "cell_type": "code",
   "source": [
    "# 预测测试集\n",
    "y_pred_enc = bag_predict(X_te) # INT\n",
    "y_true_enc = y_te.values\n",
    "\n",
    "# 标签\n",
    "y_pred_lbl = le.inverse_transform(y_pred_enc)\n",
    "y_true_lbl = le.inverse_transform(y_true_enc)\n",
    "\n",
    "# precision / recall / f1\n",
    "print(classification_report(y_true_lbl, y_pred_lbl))\n",
    "\n",
    "# 混淆矩阵\n",
    "cm = confusion_matrix(y_true_lbl, y_pred_lbl, labels=le.classes_)\n",
    "# plt.figure(figsize=(7,5))\n",
    "sns.heatmap(cm, annot=True, fmt='d', cmap='Blues',\n",
    "            xticklabels=le.classes_, yticklabels=le.classes_)\n",
    "plt.xlabel(\"Predicted\")\n",
    "plt.ylabel(\"True\")\n",
    "plt.title(\"Bagging + XGBoost  Confusion Matrix\")\n",
    "plt.show()"
   ],
   "id": "f780c5960b76eca4",
   "outputs": [
    {
     "name": "stdout",
     "output_type": "stream",
     "text": [
      "              precision    recall  f1-score   support\n",
      "\n",
      "     account       0.98      0.87      0.92        60\n",
      "    delivery       0.92      0.99      0.96       420\n",
      "       legal       1.00      0.78      0.87        40\n",
      "     payment       0.99      0.96      0.97       300\n",
      "     pricing       0.96      0.77      0.85        30\n",
      "     service       0.92      0.97      0.95       240\n",
      "   technical       0.98      0.94      0.96       360\n",
      "\n",
      "    accuracy                           0.95      1450\n",
      "   macro avg       0.96      0.90      0.93      1450\n",
      "weighted avg       0.95      0.95      0.95      1450\n",
      "\n"
     ]
    },
    {
     "data": {
      "text/plain": [
       "<Figure size 640x480 with 2 Axes>"
      ],
      "image/png": "[encoded data removed]"
     },
     "metadata": {},
     "output_type": "display_data"
    }
   ],
   "execution_count": 32
  }
 ],
 "metadata": {
  "kernelspec": {
   "display_name": "Python 3",
   "language": "python",
   "name": "python3"
  },
  "language_info": {
   "codemirror_mode": {
    "name": "ipython",
    "version": 2
   },
   "file_extension": ".py",
   "mimetype": "text/x-python",
   "name": "python",
   "nbconvert_exporter": "python",
   "pygments_lexer": "ipython2",
   "version": "2.7.6"
  }
 },
 "nbformat": 4,
 "nbformat_minor": 5
}
