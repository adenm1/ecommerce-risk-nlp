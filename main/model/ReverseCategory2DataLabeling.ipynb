{
 "cells": [
  {
   "metadata": {},
   "cell_type": "markdown",
   "source": [
    "# Warning\n",
    "根据类别关键词反向映射数据集，实现快速标注。<br>\n",
    "该功能仅测试，可能导致模型效果不稳定，实际模型开发过程慎用！"
   ],
   "id": "fcc3f652cbf42dcc"
  },
  {
   "cell_type": "code",
   "id": "initial_id",
   "metadata": {
    "collapsed": true,
    "ExecuteTime": {
     "end_time": "2025-06-18T09:15:06.495414Z",
     "start_time": "2025-06-18T09:15:06.481937Z"
    }
   },
   "source": [
    "import pandas as pd\n",
    "from Utils import *"
   ],
   "outputs": [],
   "execution_count": 35
  },
  {
   "metadata": {
    "ExecuteTime": {
     "end_time": "2025-06-18T08:28:54.874154Z",
     "start_time": "2025-06-18T08:28:49.308328Z"
    }
   },
   "cell_type": "code",
   "source": [
    "df_origin = pd.read_csv(\"../datasets/twcs.csv\")[[\"tweet_id\", \"text\"]]\n",
    "df_origin.head(10)"
   ],
   "id": "d258e656b94d6d57",
   "outputs": [
    {
     "data": {
      "text/plain": [
       "   tweet_id                                               text\n",
       "0         1  @115712 I understand. I would like to assist y...\n",
       "1         2      @sprintcare and how do you propose we do that\n",
       "2         3  @sprintcare I have sent several private messag...\n",
       "3         4  @115712 Please send us a Private Message so th...\n",
       "4         5                                 @sprintcare I did.\n",
       "5         6  @115712 Can you please send us a private messa...\n",
       "6         8          @sprintcare is the worst customer service\n",
       "7        11  @115713 This is saddening to hear. Please shoo...\n",
       "8        12  @sprintcare You gonna magically change your co...\n",
       "9        15  @115713 We understand your concerns and we'd l..."
      ],
      "text/html": [
       "<div>\n",
       "<style scoped>\n",
       "    .dataframe tbody tr th:only-of-type {\n",
       "        vertical-align: middle;\n",
       "    }\n",
       "\n",
       "    .dataframe tbody tr th {\n",
       "        vertical-align: top;\n",
       "    }\n",
       "\n",
       "    .dataframe thead th {\n",
       "        text-align: right;\n",
       "    }\n",
       "</style>\n",
       "<table border=\"1\" class=\"dataframe\">\n",
       "  <thead>\n",
       "    <tr style=\"text-align: right;\">\n",
       "      <th></th>\n",
       "      <th>tweet_id</th>\n",
       "      <th>text</th>\n",
       "    </tr>\n",
       "  </thead>\n",
       "  <tbody>\n",
       "    <tr>\n",
       "      <th>0</th>\n",
       "      <td>1</td>\n",
       "      <td>@115712 I understand. I would like to assist y...</td>\n",
       "    </tr>\n",
       "    <tr>\n",
       "      <th>1</th>\n",
       "      <td>2</td>\n",
       "      <td>@sprintcare and how do you propose we do that</td>\n",
       "    </tr>\n",
       "    <tr>\n",
       "      <th>2</th>\n",
       "      <td>3</td>\n",
       "      <td>@sprintcare I have sent several private messag...</td>\n",
       "    </tr>\n",
       "    <tr>\n",
       "      <th>3</th>\n",
       "      <td>4</td>\n",
       "      <td>@115712 Please send us a Private Message so th...</td>\n",
       "    </tr>\n",
       "    <tr>\n",
       "      <th>4</th>\n",
       "      <td>5</td>\n",
       "      <td>@sprintcare I did.</td>\n",
       "    </tr>\n",
       "    <tr>\n",
       "      <th>5</th>\n",
       "      <td>6</td>\n",
       "      <td>@115712 Can you please send us a private messa...</td>\n",
       "    </tr>\n",
       "    <tr>\n",
       "      <th>6</th>\n",
       "      <td>8</td>\n",
       "      <td>@sprintcare is the worst customer service</td>\n",
       "    </tr>\n",
       "    <tr>\n",
       "      <th>7</th>\n",
       "      <td>11</td>\n",
       "      <td>@115713 This is saddening to hear. Please shoo...</td>\n",
       "    </tr>\n",
       "    <tr>\n",
       "      <th>8</th>\n",
       "      <td>12</td>\n",
       "      <td>@sprintcare You gonna magically change your co...</td>\n",
       "    </tr>\n",
       "    <tr>\n",
       "      <th>9</th>\n",
       "      <td>15</td>\n",
       "      <td>@115713 We understand your concerns and we'd l...</td>\n",
       "    </tr>\n",
       "  </tbody>\n",
       "</table>\n",
       "</div>"
      ]
     },
     "execution_count": 17,
     "metadata": {},
     "output_type": "execute_result"
    }
   ],
   "execution_count": 17
  },
  {
   "metadata": {
    "ExecuteTime": {
     "end_time": "2025-06-18T08:28:59.252597Z",
     "start_time": "2025-06-18T08:28:59.136149Z"
    }
   },
   "cell_type": "code",
   "source": [
    "# Count Origin\n",
    "# 2811774\n",
    "df_origin.count()"
   ],
   "id": "a189f7291c9aa8ce",
   "outputs": [
    {
     "data": {
      "text/plain": [
       "tweet_id    2811774\n",
       "text        2811774\n",
       "dtype: int64"
      ]
     },
     "execution_count": 18,
     "metadata": {},
     "output_type": "execute_result"
    }
   ],
   "execution_count": 18
  },
  {
   "metadata": {},
   "cell_type": "markdown",
   "source": "# 一级逆向映射标签，通用风险词",
   "id": "9defdd35e6086ca5"
  },
  {
   "metadata": {
    "ExecuteTime": {
     "end_time": "2025-06-18T08:31:11.707997Z",
     "start_time": "2025-06-18T08:30:56.284717Z"
    }
   },
   "cell_type": "code",
   "source": [
    "keywords_general = [\n",
    "    'refund', 'crash', 'error', \n",
    "    'late', 'scam', 'rude', 'login', 'worst',\n",
    "]\n",
    "\n",
    "pattern = '|'.join(keywords_general)\n",
    "df_level_1__suspect = df_origin[df_origin['text'].str.contains(pattern, case=False, na=False)].set_index('tweet_id')\n",
    "\n",
    "df_level_1__suspect.count()"
   ],
   "id": "9cf7b9aadbc792f8",
   "outputs": [
    {
     "data": {
      "text/plain": [
       "text    156389\n",
       "dtype: int64"
      ]
     },
     "execution_count": 20,
     "metadata": {},
     "output_type": "execute_result"
    }
   ],
   "execution_count": 20
  },
  {
   "metadata": {
    "ExecuteTime": {
     "end_time": "2025-06-18T08:33:49.312079Z",
     "start_time": "2025-06-18T08:33:49.299390Z"
    }
   },
   "cell_type": "code",
   "source": [
    "# 156389\n",
    "df_level_1__suspect.head(100)"
   ],
   "id": "81f27b582f7647e6",
   "outputs": [
    {
     "data": {
      "text/plain": [
       "                                                       text\n",
       "tweet_id                                                   \n",
       "8                 @sprintcare is the worst customer service\n",
       "36        somebody from @VerizonSupport please help meee...\n",
       "49        @115722 tried to pay a bill for 60 days. No se...\n",
       "59                   @115722 is the worst ISP I’ve ever had\n",
       "161         @ChipotleTweets Tried, didn't work. How rude :/\n",
       "...                                                     ...\n",
       "2577      @115830 amazonuk took money without any https:...\n",
       "2645      @115858 when will the bug in the calendar app ...\n",
       "2666      I keep getting this error message saying “the ...\n",
       "2717      @Uber_Support I need help with my Account, It ...\n",
       "2719      @Uber_Support @115877 you haven’t “reached out...\n",
       "\n",
       "[100 rows x 1 columns]"
      ],
      "text/html": [
       "<div>\n",
       "<style scoped>\n",
       "    .dataframe tbody tr th:only-of-type {\n",
       "        vertical-align: middle;\n",
       "    }\n",
       "\n",
       "    .dataframe tbody tr th {\n",
       "        vertical-align: top;\n",
       "    }\n",
       "\n",
       "    .dataframe thead th {\n",
       "        text-align: right;\n",
       "    }\n",
       "</style>\n",
       "<table border=\"1\" class=\"dataframe\">\n",
       "  <thead>\n",
       "    <tr style=\"text-align: right;\">\n",
       "      <th></th>\n",
       "      <th>text</th>\n",
       "    </tr>\n",
       "    <tr>\n",
       "      <th>tweet_id</th>\n",
       "      <th></th>\n",
       "    </tr>\n",
       "  </thead>\n",
       "  <tbody>\n",
       "    <tr>\n",
       "      <th>8</th>\n",
       "      <td>@sprintcare is the worst customer service</td>\n",
       "    </tr>\n",
       "    <tr>\n",
       "      <th>36</th>\n",
       "      <td>somebody from @VerizonSupport please help meee...</td>\n",
       "    </tr>\n",
       "    <tr>\n",
       "      <th>49</th>\n",
       "      <td>@115722 tried to pay a bill for 60 days. No se...</td>\n",
       "    </tr>\n",
       "    <tr>\n",
       "      <th>59</th>\n",
       "      <td>@115722 is the worst ISP I’ve ever had</td>\n",
       "    </tr>\n",
       "    <tr>\n",
       "      <th>161</th>\n",
       "      <td>@ChipotleTweets Tried, didn't work. How rude :/</td>\n",
       "    </tr>\n",
       "    <tr>\n",
       "      <th>...</th>\n",
       "      <td>...</td>\n",
       "    </tr>\n",
       "    <tr>\n",
       "      <th>2577</th>\n",
       "      <td>@115830 amazonuk took money without any https:...</td>\n",
       "    </tr>\n",
       "    <tr>\n",
       "      <th>2645</th>\n",
       "      <td>@115858 when will the bug in the calendar app ...</td>\n",
       "    </tr>\n",
       "    <tr>\n",
       "      <th>2666</th>\n",
       "      <td>I keep getting this error message saying “the ...</td>\n",
       "    </tr>\n",
       "    <tr>\n",
       "      <th>2717</th>\n",
       "      <td>@Uber_Support I need help with my Account, It ...</td>\n",
       "    </tr>\n",
       "    <tr>\n",
       "      <th>2719</th>\n",
       "      <td>@Uber_Support @115877 you haven’t “reached out...</td>\n",
       "    </tr>\n",
       "  </tbody>\n",
       "</table>\n",
       "<p>100 rows × 1 columns</p>\n",
       "</div>"
      ]
     },
     "execution_count": 21,
     "metadata": {},
     "output_type": "execute_result"
    }
   ],
   "execution_count": 21
  },
  {
   "metadata": {
    "ExecuteTime": {
     "end_time": "2025-06-18T08:33:55.632251Z",
     "start_time": "2025-06-18T08:33:55.173179Z"
    }
   },
   "cell_type": "code",
   "source": "df_level_1__suspect.to_csv(\"../datasets/suspect_level_1.csv\")",
   "id": "8bb78e0306ec3c26",
   "outputs": [],
   "execution_count": 22
  },
  {
   "metadata": {},
   "cell_type": "markdown",
   "source": [
    "# 二级逆向映射标签，分类词\n",
    " "
   ],
   "id": "da8fd3e197351236"
  },
  {
   "metadata": {
    "ExecuteTime": {
     "end_time": "2025-06-18T08:47:57.686022Z",
     "start_time": "2025-06-18T08:47:57.677411Z"
    }
   },
   "cell_type": "code",
   "outputs": [],
   "execution_count": 24,
   "source": [
    "# ✅ Enum -> dict（正向映射）\n",
    "# label_to_priority = {label.name.lower(): label.value for label in Label}\n",
    "\n",
    "# 🔁 dict -> Enum（反向映射）\n",
    "# priority_to_label = {label.value: label.name.lower() for label in Label}"
   ],
   "id": "bf10be681b056394"
  },
  {
   "metadata": {
    "ExecuteTime": {
     "end_time": "2025-06-18T09:20:50.301092Z",
     "start_time": "2025-06-18T09:20:50.013952Z"
    }
   },
   "cell_type": "code",
   "source": [
    "df_suspect_L1 = pd.read_csv(\"../assets/suspect_level_1.csv\")\n",
    "df_suspect_L1.head(10)"
   ],
   "id": "71f60a25ce151ba5",
   "outputs": [
    {
     "data": {
      "text/plain": [
       "  tweet_id                                               text\n",
       "0        8          @sprintcare is the worst customer service\n",
       "1       36  somebody from @VerizonSupport please help meee...\n",
       "2       49  @115722 tried to pay a bill for 60 days. No se...\n",
       "3       59             @115722 is the worst ISP I’ve ever had\n",
       "4      161    @ChipotleTweets Tried, didn't work. How rude :/\n",
       "5      212  @ATVIAssist @115755 I'm trying to buy the digi...\n",
       "6      214  @115756  Hello there. Sorry for the late respo...\n",
       "7      267  @115768 Jeffrey I am sorry to hear that. If yo...\n",
       "8      278  @115772 Hi there, Lightroom 7.0.1 update was l...\n",
       "9      308  @115783 Misrepresentation by host. Asked them ..."
      ],
      "text/html": [
       "<div>\n",
       "<style scoped>\n",
       "    .dataframe tbody tr th:only-of-type {\n",
       "        vertical-align: middle;\n",
       "    }\n",
       "\n",
       "    .dataframe tbody tr th {\n",
       "        vertical-align: top;\n",
       "    }\n",
       "\n",
       "    .dataframe thead th {\n",
       "        text-align: right;\n",
       "    }\n",
       "</style>\n",
       "<table border=\"1\" class=\"dataframe\">\n",
       "  <thead>\n",
       "    <tr style=\"text-align: right;\">\n",
       "      <th></th>\n",
       "      <th>tweet_id</th>\n",
       "      <th>text</th>\n",
       "    </tr>\n",
       "  </thead>\n",
       "  <tbody>\n",
       "    <tr>\n",
       "      <th>0</th>\n",
       "      <td>8</td>\n",
       "      <td>@sprintcare is the worst customer service</td>\n",
       "    </tr>\n",
       "    <tr>\n",
       "      <th>1</th>\n",
       "      <td>36</td>\n",
       "      <td>somebody from @VerizonSupport please help meee...</td>\n",
       "    </tr>\n",
       "    <tr>\n",
       "      <th>2</th>\n",
       "      <td>49</td>\n",
       "      <td>@115722 tried to pay a bill for 60 days. No se...</td>\n",
       "    </tr>\n",
       "    <tr>\n",
       "      <th>3</th>\n",
       "      <td>59</td>\n",
       "      <td>@115722 is the worst ISP I’ve ever had</td>\n",
       "    </tr>\n",
       "    <tr>\n",
       "      <th>4</th>\n",
       "      <td>161</td>\n",
       "      <td>@ChipotleTweets Tried, didn't work. How rude :/</td>\n",
       "    </tr>\n",
       "    <tr>\n",
       "      <th>5</th>\n",
       "      <td>212</td>\n",
       "      <td>@ATVIAssist @115755 I'm trying to buy the digi...</td>\n",
       "    </tr>\n",
       "    <tr>\n",
       "      <th>6</th>\n",
       "      <td>214</td>\n",
       "      <td>@115756  Hello there. Sorry for the late respo...</td>\n",
       "    </tr>\n",
       "    <tr>\n",
       "      <th>7</th>\n",
       "      <td>267</td>\n",
       "      <td>@115768 Jeffrey I am sorry to hear that. If yo...</td>\n",
       "    </tr>\n",
       "    <tr>\n",
       "      <th>8</th>\n",
       "      <td>278</td>\n",
       "      <td>@115772 Hi there, Lightroom 7.0.1 update was l...</td>\n",
       "    </tr>\n",
       "    <tr>\n",
       "      <th>9</th>\n",
       "      <td>308</td>\n",
       "      <td>@115783 Misrepresentation by host. Asked them ...</td>\n",
       "    </tr>\n",
       "  </tbody>\n",
       "</table>\n",
       "</div>"
      ]
     },
     "execution_count": 39,
     "metadata": {},
     "output_type": "execute_result"
    }
   ],
   "execution_count": 39
  },
  {
   "metadata": {
    "ExecuteTime": {
     "end_time": "2025-06-18T09:21:03.805789Z",
     "start_time": "2025-06-18T09:21:02.641447Z"
    }
   },
   "cell_type": "code",
   "outputs": [
    {
     "data": {
      "text/plain": [
       "                                                       text      label\n",
       "tweet_id                                                              \n",
       "212       @ATVIAssist @115755 I'm trying to buy the digi...  technical\n",
       "267       @115768 Jeffrey I am sorry to hear that. If yo...  technical\n",
       "323       @1520 @XboxSupport  the 5 app on Xboxes not wo...  technical\n",
       "600       @115811 Hi - are you receiving an error messag...  technical\n",
       "1161      @TMobileHelp trying to redeem a free tuesday c...  technical\n",
       "1217      @115929 Please DM us a picture of the error yo...  technical\n",
       "1219      @SouthwestAir consider this your 1st reported ...  technical\n",
       "1221      @115929 Hm, we haven't had any reported errors...  technical\n",
       "1222      @SouthwestAir yup all 400 errors, even turned ...  technical\n",
       "1242      @SouthwestAir Why would we be receiving errors...  technical"
      ],
      "text/html": [
       "<div>\n",
       "<style scoped>\n",
       "    .dataframe tbody tr th:only-of-type {\n",
       "        vertical-align: middle;\n",
       "    }\n",
       "\n",
       "    .dataframe tbody tr th {\n",
       "        vertical-align: top;\n",
       "    }\n",
       "\n",
       "    .dataframe thead th {\n",
       "        text-align: right;\n",
       "    }\n",
       "</style>\n",
       "<table border=\"1\" class=\"dataframe\">\n",
       "  <thead>\n",
       "    <tr style=\"text-align: right;\">\n",
       "      <th></th>\n",
       "      <th>text</th>\n",
       "      <th>label</th>\n",
       "    </tr>\n",
       "    <tr>\n",
       "      <th>tweet_id</th>\n",
       "      <th></th>\n",
       "      <th></th>\n",
       "    </tr>\n",
       "  </thead>\n",
       "  <tbody>\n",
       "    <tr>\n",
       "      <th>212</th>\n",
       "      <td>@ATVIAssist @115755 I'm trying to buy the digi...</td>\n",
       "      <td>technical</td>\n",
       "    </tr>\n",
       "    <tr>\n",
       "      <th>267</th>\n",
       "      <td>@115768 Jeffrey I am sorry to hear that. If yo...</td>\n",
       "      <td>technical</td>\n",
       "    </tr>\n",
       "    <tr>\n",
       "      <th>323</th>\n",
       "      <td>@1520 @XboxSupport  the 5 app on Xboxes not wo...</td>\n",
       "      <td>technical</td>\n",
       "    </tr>\n",
       "    <tr>\n",
       "      <th>600</th>\n",
       "      <td>@115811 Hi - are you receiving an error messag...</td>\n",
       "      <td>technical</td>\n",
       "    </tr>\n",
       "    <tr>\n",
       "      <th>1161</th>\n",
       "      <td>@TMobileHelp trying to redeem a free tuesday c...</td>\n",
       "      <td>technical</td>\n",
       "    </tr>\n",
       "    <tr>\n",
       "      <th>1217</th>\n",
       "      <td>@115929 Please DM us a picture of the error yo...</td>\n",
       "      <td>technical</td>\n",
       "    </tr>\n",
       "    <tr>\n",
       "      <th>1219</th>\n",
       "      <td>@SouthwestAir consider this your 1st reported ...</td>\n",
       "      <td>technical</td>\n",
       "    </tr>\n",
       "    <tr>\n",
       "      <th>1221</th>\n",
       "      <td>@115929 Hm, we haven't had any reported errors...</td>\n",
       "      <td>technical</td>\n",
       "    </tr>\n",
       "    <tr>\n",
       "      <th>1222</th>\n",
       "      <td>@SouthwestAir yup all 400 errors, even turned ...</td>\n",
       "      <td>technical</td>\n",
       "    </tr>\n",
       "    <tr>\n",
       "      <th>1242</th>\n",
       "      <td>@SouthwestAir Why would we be receiving errors...</td>\n",
       "      <td>technical</td>\n",
       "    </tr>\n",
       "  </tbody>\n",
       "</table>\n",
       "</div>"
      ]
     },
     "execution_count": 40,
     "metadata": {},
     "output_type": "execute_result"
    }
   ],
   "execution_count": 40,
   "source": [
    "df_L2_technical = auto_label_by_keywords(\n",
    "    df_suspect_L1, \n",
    "    'text', \n",
    "    keywords_technical,\n",
    "    RiskLabel.TECHNICAL.name.lower(),\n",
    ").set_index('tweet_id')\n",
    "\n",
    "df_L2_technical.head(10)"
   ],
   "id": "88e5f665dd57af2b"
  },
  {
   "metadata": {
    "ExecuteTime": {
     "end_time": "2025-06-18T09:21:19.946967Z",
     "start_time": "2025-06-18T09:21:19.936365Z"
    }
   },
   "cell_type": "code",
   "source": [
    "# 47410\n",
    "df_L2_technical.count()"
   ],
   "id": "921ead45f0f3f903",
   "outputs": [
    {
     "data": {
      "text/plain": [
       "text     47410\n",
       "label    47410\n",
       "dtype: int64"
      ]
     },
     "execution_count": 42,
     "metadata": {},
     "output_type": "execute_result"
    }
   ],
   "execution_count": 42
  },
  {
   "metadata": {
    "ExecuteTime": {
     "end_time": "2025-06-18T09:22:47.812473Z",
     "start_time": "2025-06-18T09:22:47.694585Z"
    }
   },
   "cell_type": "code",
   "source": "df_L2_technical.to_csv(\"../assets/labeled_L2__1_technical.csv\", )",
   "id": "ef49caefe0d65633",
   "outputs": [],
   "execution_count": 43
  },
  {
   "metadata": {
    "ExecuteTime": {
     "end_time": "2025-06-18T09:35:13.014705Z",
     "start_time": "2025-06-18T09:35:12.056178Z"
    }
   },
   "cell_type": "code",
   "source": [
    "df_L2_payment = auto_label_by_keywords(\n",
    "    df_suspect_L1, \n",
    "    'text', \n",
    "    keywords_payment, \n",
    "    RiskLabel.PAYMENT.name.lower()\n",
    ").set_index('tweet_id')\n",
    "\n",
    "df_L2_payment.head(10)"
   ],
   "id": "ca698a52c973c67c",
   "outputs": [
    {
     "data": {
      "text/plain": [
       "                                                       text    label\n",
       "tweet_id                                                            \n",
       "308       @115783 Misrepresentation by host. Asked them ...  payment\n",
       "371       @115802 @AirAsiaSupport Why are you not refund...  payment\n",
       "658       @115839 I'm sorry your book arrived this way! ...  payment\n",
       "664       @AmazonHelp delivery I paid for today,didn’t a...  payment\n",
       "669       @AmazonHelp I just said it's been sorted! I've...  payment\n",
       "1207      @VirginTrains For at least the third time this...  payment\n",
       "1225      @AskeBay sure will do. Getting refunded by the...  payment\n",
       "1531      @116025 Did you view our link? We can give a r...  payment\n",
       "1532      @AskeBay I would appreciate that I got the ref...  payment\n",
       "1534      @AskeBay I'm not looking for the refund. Just ...  payment"
      ],
      "text/html": [
       "<div>\n",
       "<style scoped>\n",
       "    .dataframe tbody tr th:only-of-type {\n",
       "        vertical-align: middle;\n",
       "    }\n",
       "\n",
       "    .dataframe tbody tr th {\n",
       "        vertical-align: top;\n",
       "    }\n",
       "\n",
       "    .dataframe thead th {\n",
       "        text-align: right;\n",
       "    }\n",
       "</style>\n",
       "<table border=\"1\" class=\"dataframe\">\n",
       "  <thead>\n",
       "    <tr style=\"text-align: right;\">\n",
       "      <th></th>\n",
       "      <th>text</th>\n",
       "      <th>label</th>\n",
       "    </tr>\n",
       "    <tr>\n",
       "      <th>tweet_id</th>\n",
       "      <th></th>\n",
       "      <th></th>\n",
       "    </tr>\n",
       "  </thead>\n",
       "  <tbody>\n",
       "    <tr>\n",
       "      <th>308</th>\n",
       "      <td>@115783 Misrepresentation by host. Asked them ...</td>\n",
       "      <td>payment</td>\n",
       "    </tr>\n",
       "    <tr>\n",
       "      <th>371</th>\n",
       "      <td>@115802 @AirAsiaSupport Why are you not refund...</td>\n",
       "      <td>payment</td>\n",
       "    </tr>\n",
       "    <tr>\n",
       "      <th>658</th>\n",
       "      <td>@115839 I'm sorry your book arrived this way! ...</td>\n",
       "      <td>payment</td>\n",
       "    </tr>\n",
       "    <tr>\n",
       "      <th>664</th>\n",
       "      <td>@AmazonHelp delivery I paid for today,didn’t a...</td>\n",
       "      <td>payment</td>\n",
       "    </tr>\n",
       "    <tr>\n",
       "      <th>669</th>\n",
       "      <td>@AmazonHelp I just said it's been sorted! I've...</td>\n",
       "      <td>payment</td>\n",
       "    </tr>\n",
       "    <tr>\n",
       "      <th>1207</th>\n",
       "      <td>@VirginTrains For at least the third time this...</td>\n",
       "      <td>payment</td>\n",
       "    </tr>\n",
       "    <tr>\n",
       "      <th>1225</th>\n",
       "      <td>@AskeBay sure will do. Getting refunded by the...</td>\n",
       "      <td>payment</td>\n",
       "    </tr>\n",
       "    <tr>\n",
       "      <th>1531</th>\n",
       "      <td>@116025 Did you view our link? We can give a r...</td>\n",
       "      <td>payment</td>\n",
       "    </tr>\n",
       "    <tr>\n",
       "      <th>1532</th>\n",
       "      <td>@AskeBay I would appreciate that I got the ref...</td>\n",
       "      <td>payment</td>\n",
       "    </tr>\n",
       "    <tr>\n",
       "      <th>1534</th>\n",
       "      <td>@AskeBay I'm not looking for the refund. Just ...</td>\n",
       "      <td>payment</td>\n",
       "    </tr>\n",
       "  </tbody>\n",
       "</table>\n",
       "</div>"
      ]
     },
     "execution_count": 54,
     "metadata": {},
     "output_type": "execute_result"
    }
   ],
   "execution_count": 54
  },
  {
   "metadata": {
    "ExecuteTime": {
     "end_time": "2025-06-18T09:35:28.008178Z",
     "start_time": "2025-06-18T09:35:27.975812Z"
    }
   },
   "cell_type": "code",
   "source": [
    "# 39851\n",
    "df_L2_payment.count()"
   ],
   "id": "39e723514108f40",
   "outputs": [
    {
     "data": {
      "text/plain": [
       "text     39851\n",
       "label    39851\n",
       "dtype: int64"
      ]
     },
     "execution_count": 55,
     "metadata": {},
     "output_type": "execute_result"
    }
   ],
   "execution_count": 55
  },
  {
   "metadata": {
    "ExecuteTime": {
     "end_time": "2025-06-18T09:38:33.439409Z",
     "start_time": "2025-06-18T09:38:33.336512Z"
    }
   },
   "cell_type": "code",
   "source": "df_L2_payment.to_csv(\"../assets/labeled_L2__2_payment.csv\", )",
   "id": "10649f84dbaf91b2",
   "outputs": [],
   "execution_count": 56
  },
  {
   "metadata": {
    "ExecuteTime": {
     "end_time": "2025-06-18T09:39:52.514429Z",
     "start_time": "2025-06-18T09:39:51.592675Z"
    }
   },
   "cell_type": "code",
   "source": [
    "df_L2_delivery = auto_label_by_keywords(\n",
    "    df_suspect_L1, \n",
    "    'text', \n",
    "    keywords_delivery, \n",
    "    RiskLabel.DELIVERY.name.lower()\n",
    ").set_index('tweet_id')\n",
    "\n",
    "df_L2_delivery.head(10)"
   ],
   "id": "d7a6e71b655aa05f",
   "outputs": [
    {
     "data": {
      "text/plain": [
       "                                                       text     label\n",
       "tweet_id                                                             \n",
       "214       @115756  Hello there. Sorry for the late respo...  delivery\n",
       "278       @115772 Hi there, Lightroom 7.0.1 update was l...  delivery\n",
       "599       @115810 Chocolate chip cookies + McFlurry = ev...  delivery\n",
       "634       @115821 @AmazonHelp why is my order at my loca...  delivery\n",
       "655       @115838 Provide your details here: https://t.c...  delivery\n",
       "664       @AmazonHelp delivery I paid for today,didn’t a...  delivery\n",
       "686       @AmazonHelp Already contacted 3-4 times in the...  delivery\n",
       "1203      @VirginTrains Always some supposedly acceptabl...  delivery\n",
       "1205      @VirginTrains The 06:20 from Euston. Now I'm h...  delivery\n",
       "1207      @VirginTrains For at least the third time this...  delivery"
      ],
      "text/html": [
       "<div>\n",
       "<style scoped>\n",
       "    .dataframe tbody tr th:only-of-type {\n",
       "        vertical-align: middle;\n",
       "    }\n",
       "\n",
       "    .dataframe tbody tr th {\n",
       "        vertical-align: top;\n",
       "    }\n",
       "\n",
       "    .dataframe thead th {\n",
       "        text-align: right;\n",
       "    }\n",
       "</style>\n",
       "<table border=\"1\" class=\"dataframe\">\n",
       "  <thead>\n",
       "    <tr style=\"text-align: right;\">\n",
       "      <th></th>\n",
       "      <th>text</th>\n",
       "      <th>label</th>\n",
       "    </tr>\n",
       "    <tr>\n",
       "      <th>tweet_id</th>\n",
       "      <th></th>\n",
       "      <th></th>\n",
       "    </tr>\n",
       "  </thead>\n",
       "  <tbody>\n",
       "    <tr>\n",
       "      <th>214</th>\n",
       "      <td>@115756  Hello there. Sorry for the late respo...</td>\n",
       "      <td>delivery</td>\n",
       "    </tr>\n",
       "    <tr>\n",
       "      <th>278</th>\n",
       "      <td>@115772 Hi there, Lightroom 7.0.1 update was l...</td>\n",
       "      <td>delivery</td>\n",
       "    </tr>\n",
       "    <tr>\n",
       "      <th>599</th>\n",
       "      <td>@115810 Chocolate chip cookies + McFlurry = ev...</td>\n",
       "      <td>delivery</td>\n",
       "    </tr>\n",
       "    <tr>\n",
       "      <th>634</th>\n",
       "      <td>@115821 @AmazonHelp why is my order at my loca...</td>\n",
       "      <td>delivery</td>\n",
       "    </tr>\n",
       "    <tr>\n",
       "      <th>655</th>\n",
       "      <td>@115838 Provide your details here: https://t.c...</td>\n",
       "      <td>delivery</td>\n",
       "    </tr>\n",
       "    <tr>\n",
       "      <th>664</th>\n",
       "      <td>@AmazonHelp delivery I paid for today,didn’t a...</td>\n",
       "      <td>delivery</td>\n",
       "    </tr>\n",
       "    <tr>\n",
       "      <th>686</th>\n",
       "      <td>@AmazonHelp Already contacted 3-4 times in the...</td>\n",
       "      <td>delivery</td>\n",
       "    </tr>\n",
       "    <tr>\n",
       "      <th>1203</th>\n",
       "      <td>@VirginTrains Always some supposedly acceptabl...</td>\n",
       "      <td>delivery</td>\n",
       "    </tr>\n",
       "    <tr>\n",
       "      <th>1205</th>\n",
       "      <td>@VirginTrains The 06:20 from Euston. Now I'm h...</td>\n",
       "      <td>delivery</td>\n",
       "    </tr>\n",
       "    <tr>\n",
       "      <th>1207</th>\n",
       "      <td>@VirginTrains For at least the third time this...</td>\n",
       "      <td>delivery</td>\n",
       "    </tr>\n",
       "  </tbody>\n",
       "</table>\n",
       "</div>"
      ]
     },
     "execution_count": 57,
     "metadata": {},
     "output_type": "execute_result"
    }
   ],
   "execution_count": 57
  },
  {
   "metadata": {
    "ExecuteTime": {
     "end_time": "2025-06-18T09:40:10.410265Z",
     "start_time": "2025-06-18T09:40:10.379515Z"
    }
   },
   "cell_type": "code",
   "source": [
    "# 60139\n",
    "df_L2_delivery.count()"
   ],
   "id": "ab33ea199df54798",
   "outputs": [
    {
     "data": {
      "text/plain": [
       "text     60139\n",
       "label    60139\n",
       "dtype: int64"
      ]
     },
     "execution_count": 58,
     "metadata": {},
     "output_type": "execute_result"
    }
   ],
   "execution_count": 58
  },
  {
   "metadata": {
    "ExecuteTime": {
     "end_time": "2025-06-18T09:40:25.745139Z",
     "start_time": "2025-06-18T09:40:25.617039Z"
    }
   },
   "cell_type": "code",
   "source": "df_L2_delivery.to_csv(\"../assets/labeled_L2__3_delivery.csv\", )",
   "id": "44b98f9fd5606774",
   "outputs": [],
   "execution_count": 59
  },
  {
   "metadata": {
    "ExecuteTime": {
     "end_time": "2025-06-18T09:46:20.465975Z",
     "start_time": "2025-06-18T09:46:19.640568Z"
    }
   },
   "cell_type": "code",
   "source": [
    "df_L2_account = auto_label_by_keywords(\n",
    "    df_suspect_L1, \n",
    "    'text', \n",
    "    keywords_account, \n",
    "    RiskLabel.ACCOUNT.name.lower()\n",
    ").set_index('tweet_id')\n",
    "\n",
    "df_L2_account.head(10)"
   ],
   "id": "cfce76dcd9e5cd73",
   "outputs": [
    {
     "data": {
      "text/plain": [
       "                                                       text    label\n",
       "tweet_id                                                            \n",
       "2257      @AskPlayStation Hi! Having issue with an old a...  account\n",
       "2717      @Uber_Support I need help with my Account, It ...  account\n",
       "3484      @116535 Hi again, do you have two emails, a wo...  account\n",
       "3733      @AmazonHelp um, my account was locked as soon ...  account\n",
       "5426      @hulu_support the Hulu app logged me out, &amp...  account\n",
       "6558      @117157 Why is your website always down?  Pret...  account\n",
       "6615      @117167 Hey Terry, that doesn't sound good! Di...  account\n",
       "6655      @117176 Having issues getting the website to l...  account\n",
       "7833      @ATVIAssist @117333 the www-less domain of the...  account\n",
       "7907      @117353 I can't login because it says \"your ac...  account"
      ],
      "text/html": [
       "<div>\n",
       "<style scoped>\n",
       "    .dataframe tbody tr th:only-of-type {\n",
       "        vertical-align: middle;\n",
       "    }\n",
       "\n",
       "    .dataframe tbody tr th {\n",
       "        vertical-align: top;\n",
       "    }\n",
       "\n",
       "    .dataframe thead th {\n",
       "        text-align: right;\n",
       "    }\n",
       "</style>\n",
       "<table border=\"1\" class=\"dataframe\">\n",
       "  <thead>\n",
       "    <tr style=\"text-align: right;\">\n",
       "      <th></th>\n",
       "      <th>text</th>\n",
       "      <th>label</th>\n",
       "    </tr>\n",
       "    <tr>\n",
       "      <th>tweet_id</th>\n",
       "      <th></th>\n",
       "      <th></th>\n",
       "    </tr>\n",
       "  </thead>\n",
       "  <tbody>\n",
       "    <tr>\n",
       "      <th>2257</th>\n",
       "      <td>@AskPlayStation Hi! Having issue with an old a...</td>\n",
       "      <td>account</td>\n",
       "    </tr>\n",
       "    <tr>\n",
       "      <th>2717</th>\n",
       "      <td>@Uber_Support I need help with my Account, It ...</td>\n",
       "      <td>account</td>\n",
       "    </tr>\n",
       "    <tr>\n",
       "      <th>3484</th>\n",
       "      <td>@116535 Hi again, do you have two emails, a wo...</td>\n",
       "      <td>account</td>\n",
       "    </tr>\n",
       "    <tr>\n",
       "      <th>3733</th>\n",
       "      <td>@AmazonHelp um, my account was locked as soon ...</td>\n",
       "      <td>account</td>\n",
       "    </tr>\n",
       "    <tr>\n",
       "      <th>5426</th>\n",
       "      <td>@hulu_support the Hulu app logged me out, &amp;amp...</td>\n",
       "      <td>account</td>\n",
       "    </tr>\n",
       "    <tr>\n",
       "      <th>6558</th>\n",
       "      <td>@117157 Why is your website always down?  Pret...</td>\n",
       "      <td>account</td>\n",
       "    </tr>\n",
       "    <tr>\n",
       "      <th>6615</th>\n",
       "      <td>@117167 Hey Terry, that doesn't sound good! Di...</td>\n",
       "      <td>account</td>\n",
       "    </tr>\n",
       "    <tr>\n",
       "      <th>6655</th>\n",
       "      <td>@117176 Having issues getting the website to l...</td>\n",
       "      <td>account</td>\n",
       "    </tr>\n",
       "    <tr>\n",
       "      <th>7833</th>\n",
       "      <td>@ATVIAssist @117333 the www-less domain of the...</td>\n",
       "      <td>account</td>\n",
       "    </tr>\n",
       "    <tr>\n",
       "      <th>7907</th>\n",
       "      <td>@117353 I can't login because it says \"your ac...</td>\n",
       "      <td>account</td>\n",
       "    </tr>\n",
       "  </tbody>\n",
       "</table>\n",
       "</div>"
      ]
     },
     "execution_count": 60,
     "metadata": {},
     "output_type": "execute_result"
    }
   ],
   "execution_count": 60
  },
  {
   "metadata": {
    "ExecuteTime": {
     "end_time": "2025-06-18T09:46:27.570609Z",
     "start_time": "2025-06-18T09:46:27.565408Z"
    }
   },
   "cell_type": "code",
   "source": [
    "# 6060\n",
    "df_L2_account.count()"
   ],
   "id": "5663e457be21779d",
   "outputs": [
    {
     "data": {
      "text/plain": [
       "text     6060\n",
       "label    6060\n",
       "dtype: int64"
      ]
     },
     "execution_count": 61,
     "metadata": {},
     "output_type": "execute_result"
    }
   ],
   "execution_count": 61
  },
  {
   "metadata": {
    "ExecuteTime": {
     "end_time": "2025-06-18T09:46:36.018463Z",
     "start_time": "2025-06-18T09:46:35.997409Z"
    }
   },
   "cell_type": "code",
   "source": "df_L2_account.to_csv(\"../assets/labeled_L2__4_account.csv\", )",
   "id": "b847faf08a481439",
   "outputs": [],
   "execution_count": 62
  },
  {
   "metadata": {
    "ExecuteTime": {
     "end_time": "2025-06-18T09:47:16.966982Z",
     "start_time": "2025-06-18T09:47:16.189829Z"
    }
   },
   "cell_type": "code",
   "source": [
    "df_L2_service = auto_label_by_keywords(\n",
    "    df_suspect_L1, \n",
    "    'text', \n",
    "    keywords_service, \n",
    "    RiskLabel.SERVICE.name.lower()\n",
    ").set_index('tweet_id')\n",
    "\n",
    "df_L2_service.head(10)"
   ],
   "id": "4d0ef032c9bc3efa",
   "outputs": [
    {
     "data": {
      "text/plain": [
       "                                                       text    label\n",
       "tweet_id                                                            \n",
       "8                 @sprintcare is the worst customer service  service\n",
       "36        somebody from @VerizonSupport please help meee...  service\n",
       "49        @115722 tried to pay a bill for 60 days. No se...  service\n",
       "161         @ChipotleTweets Tried, didn't work. How rude :/  service\n",
       "308       @115783 Misrepresentation by host. Asked them ...  service\n",
       "323       @1520 @XboxSupport  the 5 app on Xboxes not wo...  service\n",
       "371       @115802 @AirAsiaSupport Why are you not refund...  service\n",
       "1177      @VirginTrains so i wait almost 3 hours and the...  service\n",
       "1480      @HPSupport [Laserjet Pro M102w will not print....  service\n",
       "1616      @AirAsiaSupport what happen to your system. I ...  service"
      ],
      "text/html": [
       "<div>\n",
       "<style scoped>\n",
       "    .dataframe tbody tr th:only-of-type {\n",
       "        vertical-align: middle;\n",
       "    }\n",
       "\n",
       "    .dataframe tbody tr th {\n",
       "        vertical-align: top;\n",
       "    }\n",
       "\n",
       "    .dataframe thead th {\n",
       "        text-align: right;\n",
       "    }\n",
       "</style>\n",
       "<table border=\"1\" class=\"dataframe\">\n",
       "  <thead>\n",
       "    <tr style=\"text-align: right;\">\n",
       "      <th></th>\n",
       "      <th>text</th>\n",
       "      <th>label</th>\n",
       "    </tr>\n",
       "    <tr>\n",
       "      <th>tweet_id</th>\n",
       "      <th></th>\n",
       "      <th></th>\n",
       "    </tr>\n",
       "  </thead>\n",
       "  <tbody>\n",
       "    <tr>\n",
       "      <th>8</th>\n",
       "      <td>@sprintcare is the worst customer service</td>\n",
       "      <td>service</td>\n",
       "    </tr>\n",
       "    <tr>\n",
       "      <th>36</th>\n",
       "      <td>somebody from @VerizonSupport please help meee...</td>\n",
       "      <td>service</td>\n",
       "    </tr>\n",
       "    <tr>\n",
       "      <th>49</th>\n",
       "      <td>@115722 tried to pay a bill for 60 days. No se...</td>\n",
       "      <td>service</td>\n",
       "    </tr>\n",
       "    <tr>\n",
       "      <th>161</th>\n",
       "      <td>@ChipotleTweets Tried, didn't work. How rude :/</td>\n",
       "      <td>service</td>\n",
       "    </tr>\n",
       "    <tr>\n",
       "      <th>308</th>\n",
       "      <td>@115783 Misrepresentation by host. Asked them ...</td>\n",
       "      <td>service</td>\n",
       "    </tr>\n",
       "    <tr>\n",
       "      <th>323</th>\n",
       "      <td>@1520 @XboxSupport  the 5 app on Xboxes not wo...</td>\n",
       "      <td>service</td>\n",
       "    </tr>\n",
       "    <tr>\n",
       "      <th>371</th>\n",
       "      <td>@115802 @AirAsiaSupport Why are you not refund...</td>\n",
       "      <td>service</td>\n",
       "    </tr>\n",
       "    <tr>\n",
       "      <th>1177</th>\n",
       "      <td>@VirginTrains so i wait almost 3 hours and the...</td>\n",
       "      <td>service</td>\n",
       "    </tr>\n",
       "    <tr>\n",
       "      <th>1480</th>\n",
       "      <td>@HPSupport [Laserjet Pro M102w will not print....</td>\n",
       "      <td>service</td>\n",
       "    </tr>\n",
       "    <tr>\n",
       "      <th>1616</th>\n",
       "      <td>@AirAsiaSupport what happen to your system. I ...</td>\n",
       "      <td>service</td>\n",
       "    </tr>\n",
       "  </tbody>\n",
       "</table>\n",
       "</div>"
      ]
     },
     "execution_count": 63,
     "metadata": {},
     "output_type": "execute_result"
    }
   ],
   "execution_count": 63
  },
  {
   "metadata": {
    "ExecuteTime": {
     "end_time": "2025-06-18T09:47:27.949693Z",
     "start_time": "2025-06-18T09:47:27.912368Z"
    }
   },
   "cell_type": "code",
   "source": [
    "# 32386\n",
    "df_L2_service.count()"
   ],
   "id": "f7a84b5b7258321c",
   "outputs": [
    {
     "data": {
      "text/plain": [
       "text     32386\n",
       "label    32386\n",
       "dtype: int64"
      ]
     },
     "execution_count": 64,
     "metadata": {},
     "output_type": "execute_result"
    }
   ],
   "execution_count": 64
  },
  {
   "metadata": {
    "ExecuteTime": {
     "end_time": "2025-06-18T09:48:00.379480Z",
     "start_time": "2025-06-18T09:48:00.296062Z"
    }
   },
   "cell_type": "code",
   "source": "df_L2_service.to_csv(\"../assets/labeled_L2__5_service.csv\", )",
   "id": "391a635fed16af5",
   "outputs": [],
   "execution_count": 65
  },
  {
   "metadata": {
    "ExecuteTime": {
     "end_time": "2025-06-18T09:51:18.213531Z",
     "start_time": "2025-06-18T09:51:17.381385Z"
    }
   },
   "cell_type": "code",
   "source": [
    "df_L2_pricing = auto_label_by_keywords(\n",
    "    df_suspect_L1, \n",
    "    'text', \n",
    "    keywords_pricing, \n",
    "    RiskLabel.PRICING.name.lower()\n",
    ").set_index('tweet_id')\n",
    "\n",
    "df_L2_pricing.head(10)"
   ],
   "id": "d4df372fad67c14c",
   "outputs": [
    {
     "data": {
      "text/plain": [
       "                                                       text    label\n",
       "tweet_id                                                            \n",
       "1718      I ordered some parts of my costume late, but m...  pricing\n",
       "1860      @Delta Can I get the 35$ refunded for the seat...  pricing\n",
       "2719      @Uber_Support @115877 you haven’t “reached out...  pricing\n",
       "3246      @Delta :( Spent money on a ticket, online syst...  pricing\n",
       "3262      @Delta I went to the service center &amp; spok...  pricing\n",
       "5511      @ChipotleTweets Went to get my boorito &amp; w...  pricing\n",
       "5735      #upsscam why ups always charge cod ? Why they ...  pricing\n",
       "5767      @NeweggService Purchased a case yesterday that...  pricing\n",
       "5963      @AirAsiaSupport Fairness is NOT price gouging ...  pricing\n",
       "9036      @CoxHelp too little too late. @116021 should h...  pricing"
      ],
      "text/html": [
       "<div>\n",
       "<style scoped>\n",
       "    .dataframe tbody tr th:only-of-type {\n",
       "        vertical-align: middle;\n",
       "    }\n",
       "\n",
       "    .dataframe tbody tr th {\n",
       "        vertical-align: top;\n",
       "    }\n",
       "\n",
       "    .dataframe thead th {\n",
       "        text-align: right;\n",
       "    }\n",
       "</style>\n",
       "<table border=\"1\" class=\"dataframe\">\n",
       "  <thead>\n",
       "    <tr style=\"text-align: right;\">\n",
       "      <th></th>\n",
       "      <th>text</th>\n",
       "      <th>label</th>\n",
       "    </tr>\n",
       "    <tr>\n",
       "      <th>tweet_id</th>\n",
       "      <th></th>\n",
       "      <th></th>\n",
       "    </tr>\n",
       "  </thead>\n",
       "  <tbody>\n",
       "    <tr>\n",
       "      <th>1718</th>\n",
       "      <td>I ordered some parts of my costume late, but m...</td>\n",
       "      <td>pricing</td>\n",
       "    </tr>\n",
       "    <tr>\n",
       "      <th>1860</th>\n",
       "      <td>@Delta Can I get the 35$ refunded for the seat...</td>\n",
       "      <td>pricing</td>\n",
       "    </tr>\n",
       "    <tr>\n",
       "      <th>2719</th>\n",
       "      <td>@Uber_Support @115877 you haven’t “reached out...</td>\n",
       "      <td>pricing</td>\n",
       "    </tr>\n",
       "    <tr>\n",
       "      <th>3246</th>\n",
       "      <td>@Delta :( Spent money on a ticket, online syst...</td>\n",
       "      <td>pricing</td>\n",
       "    </tr>\n",
       "    <tr>\n",
       "      <th>3262</th>\n",
       "      <td>@Delta I went to the service center &amp;amp; spok...</td>\n",
       "      <td>pricing</td>\n",
       "    </tr>\n",
       "    <tr>\n",
       "      <th>5511</th>\n",
       "      <td>@ChipotleTweets Went to get my boorito &amp;amp; w...</td>\n",
       "      <td>pricing</td>\n",
       "    </tr>\n",
       "    <tr>\n",
       "      <th>5735</th>\n",
       "      <td>#upsscam why ups always charge cod ? Why they ...</td>\n",
       "      <td>pricing</td>\n",
       "    </tr>\n",
       "    <tr>\n",
       "      <th>5767</th>\n",
       "      <td>@NeweggService Purchased a case yesterday that...</td>\n",
       "      <td>pricing</td>\n",
       "    </tr>\n",
       "    <tr>\n",
       "      <th>5963</th>\n",
       "      <td>@AirAsiaSupport Fairness is NOT price gouging ...</td>\n",
       "      <td>pricing</td>\n",
       "    </tr>\n",
       "    <tr>\n",
       "      <th>9036</th>\n",
       "      <td>@CoxHelp too little too late. @116021 should h...</td>\n",
       "      <td>pricing</td>\n",
       "    </tr>\n",
       "  </tbody>\n",
       "</table>\n",
       "</div>"
      ]
     },
     "execution_count": 69,
     "metadata": {},
     "output_type": "execute_result"
    }
   ],
   "execution_count": 69
  },
  {
   "metadata": {
    "ExecuteTime": {
     "end_time": "2025-06-18T09:51:21.495406Z",
     "start_time": "2025-06-18T09:51:21.489481Z"
    }
   },
   "cell_type": "code",
   "source": "df_L2_pricing.count()",
   "id": "2a1f711475eed405",
   "outputs": [
    {
     "data": {
      "text/plain": [
       "text     2687\n",
       "label    2687\n",
       "dtype: int64"
      ]
     },
     "execution_count": 70,
     "metadata": {},
     "output_type": "execute_result"
    }
   ],
   "execution_count": 70
  },
  {
   "metadata": {
    "ExecuteTime": {
     "end_time": "2025-06-18T09:51:24.059622Z",
     "start_time": "2025-06-18T09:51:24.045077Z"
    }
   },
   "cell_type": "code",
   "source": "df_L2_pricing.to_csv(\"../assets/labeled_L2__6_pricing.csv\", )",
   "id": "be19b02a3422259d",
   "outputs": [],
   "execution_count": 71
  },
  {
   "metadata": {
    "ExecuteTime": {
     "end_time": "2025-06-18T09:48:56.721329Z",
     "start_time": "2025-06-18T09:48:55.656968Z"
    }
   },
   "cell_type": "code",
   "source": [
    "df_L2_legal = auto_label_by_keywords(\n",
    "    df_suspect_L1, \n",
    "    'text', \n",
    "    keywords_legal, \n",
    "    RiskLabel.LEGAL.name.lower()\n",
    ").set_index('tweet_id')\n",
    "\n",
    "df_L2_legal.head(10)"
   ],
   "id": "2740db67b5f2c3c3",
   "outputs": [
    {
     "data": {
      "text/plain": [
       "                                                       text  label\n",
       "tweet_id                                                          \n",
       "308       @115783 Misrepresentation by host. Asked them ...  legal\n",
       "1929      @AmericanAir i don't think it changes within m...  legal\n",
       "2299      @116231 Hello! It's our utmost pleasure to hel...  legal\n",
       "2302      @116231 Let us guide you to report scams. On t...  legal\n",
       "2305      @MicrosoftHelps I apologize for sounding like ...  legal\n",
       "5735      #upsscam why ups always charge cod ? Why they ...  legal\n",
       "9756      Never use asurion mobile insurance again!! Com...  legal\n",
       "9780      @AmazonHelp I've returned several things latel...  legal\n",
       "9955      @AmazonHelp amazon just doesn’t seem to get it...  legal\n",
       "11075     @AmazonHelp i understand, but i am asking a ge...  legal"
      ],
      "text/html": [
       "<div>\n",
       "<style scoped>\n",
       "    .dataframe tbody tr th:only-of-type {\n",
       "        vertical-align: middle;\n",
       "    }\n",
       "\n",
       "    .dataframe tbody tr th {\n",
       "        vertical-align: top;\n",
       "    }\n",
       "\n",
       "    .dataframe thead th {\n",
       "        text-align: right;\n",
       "    }\n",
       "</style>\n",
       "<table border=\"1\" class=\"dataframe\">\n",
       "  <thead>\n",
       "    <tr style=\"text-align: right;\">\n",
       "      <th></th>\n",
       "      <th>text</th>\n",
       "      <th>label</th>\n",
       "    </tr>\n",
       "    <tr>\n",
       "      <th>tweet_id</th>\n",
       "      <th></th>\n",
       "      <th></th>\n",
       "    </tr>\n",
       "  </thead>\n",
       "  <tbody>\n",
       "    <tr>\n",
       "      <th>308</th>\n",
       "      <td>@115783 Misrepresentation by host. Asked them ...</td>\n",
       "      <td>legal</td>\n",
       "    </tr>\n",
       "    <tr>\n",
       "      <th>1929</th>\n",
       "      <td>@AmericanAir i don't think it changes within m...</td>\n",
       "      <td>legal</td>\n",
       "    </tr>\n",
       "    <tr>\n",
       "      <th>2299</th>\n",
       "      <td>@116231 Hello! It's our utmost pleasure to hel...</td>\n",
       "      <td>legal</td>\n",
       "    </tr>\n",
       "    <tr>\n",
       "      <th>2302</th>\n",
       "      <td>@116231 Let us guide you to report scams. On t...</td>\n",
       "      <td>legal</td>\n",
       "    </tr>\n",
       "    <tr>\n",
       "      <th>2305</th>\n",
       "      <td>@MicrosoftHelps I apologize for sounding like ...</td>\n",
       "      <td>legal</td>\n",
       "    </tr>\n",
       "    <tr>\n",
       "      <th>5735</th>\n",
       "      <td>#upsscam why ups always charge cod ? Why they ...</td>\n",
       "      <td>legal</td>\n",
       "    </tr>\n",
       "    <tr>\n",
       "      <th>9756</th>\n",
       "      <td>Never use asurion mobile insurance again!! Com...</td>\n",
       "      <td>legal</td>\n",
       "    </tr>\n",
       "    <tr>\n",
       "      <th>9780</th>\n",
       "      <td>@AmazonHelp I've returned several things latel...</td>\n",
       "      <td>legal</td>\n",
       "    </tr>\n",
       "    <tr>\n",
       "      <th>9955</th>\n",
       "      <td>@AmazonHelp amazon just doesn’t seem to get it...</td>\n",
       "      <td>legal</td>\n",
       "    </tr>\n",
       "    <tr>\n",
       "      <th>11075</th>\n",
       "      <td>@AmazonHelp i understand, but i am asking a ge...</td>\n",
       "      <td>legal</td>\n",
       "    </tr>\n",
       "  </tbody>\n",
       "</table>\n",
       "</div>"
      ]
     },
     "execution_count": 66,
     "metadata": {},
     "output_type": "execute_result"
    }
   ],
   "execution_count": 66
  },
  {
   "metadata": {
    "ExecuteTime": {
     "end_time": "2025-06-18T09:49:01.900405Z",
     "start_time": "2025-06-18T09:49:01.893861Z"
    }
   },
   "cell_type": "code",
   "source": [
    "# 5499\n",
    "df_L2_legal.count()"
   ],
   "id": "c27359ffffe50efe",
   "outputs": [
    {
     "data": {
      "text/plain": [
       "text     5499\n",
       "label    5499\n",
       "dtype: int64"
      ]
     },
     "execution_count": 67,
     "metadata": {},
     "output_type": "execute_result"
    }
   ],
   "execution_count": 67
  },
  {
   "metadata": {
    "ExecuteTime": {
     "end_time": "2025-06-18T09:49:04.389391Z",
     "start_time": "2025-06-18T09:49:04.367031Z"
    }
   },
   "cell_type": "code",
   "source": "df_L2_legal.to_csv(\"../assets/labeled_L2__7_legal.csv\", )",
   "id": "e347b3eac5e65cc5",
   "outputs": [],
   "execution_count": 68
  }
 ],
 "metadata": {
  "kernelspec": {
   "display_name": "Python 3",
   "language": "python",
   "name": "python3"
  },
  "language_info": {
   "codemirror_mode": {
    "name": "ipython",
    "version": 2
   },
   "file_extension": ".py",
   "mimetype": "text/x-python",
   "name": "python",
   "nbconvert_exporter": "python",
   "pygments_lexer": "ipython2",
   "version": "2.7.6"
  }
 },
 "nbformat": 4,
 "nbformat_minor": 5
}
