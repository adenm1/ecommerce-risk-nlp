{
 "cells": [
  {
   "cell_type": "code",
   "id": "initial_id",
   "metadata": {
    "collapsed": true,
    "ExecuteTime": {
     "end_time": "2025-06-16T13:42:59.221444Z",
     "start_time": "2025-06-16T13:42:59.206174Z"
    }
   },
   "source": [
    "import pandas as pd\n",
    "import numpy as np\n",
    "import re\n",
    "\n",
    "# sklearn\n",
    "from sklearn.feature_extraction.text import TfidfVectorizer\n",
    "from sklearn.preprocessing import MinMaxScaler\n",
    "from sklearn.model_selection import train_test_split\n",
    "from sklearn.linear_model import LogisticRegression\n",
    "from sklearn.metrics import classification_report\n",
    "from sklearn.neural_network import MLPClassifier\n",
    "\n",
    "# stopwords\n",
    "from sklearn.feature_extraction.text import ENGLISH_STOP_WORDS\n",
    "\n",
    "# nltk 停用词与情绪辞典\n",
    "# import nltk\n",
    "# nltk.download('stopwords') # Error loading SSL Web issue\n",
    "# from nltk.corpus import stopwords"
   ],
   "outputs": [],
   "execution_count": 13
  },
  {
   "metadata": {
    "ExecuteTime": {
     "end_time": "2025-06-16T13:12:55.749375Z",
     "start_time": "2025-06-16T13:12:55.746397Z"
    }
   },
   "cell_type": "code",
   "source": [
    "# Clean\n",
    "def clean_text(text):\n",
    "    if not isinstance(text, str):\n",
    "        return \"\"\n",
    "    # 移除 @用户名 和 长数字ID\n",
    "    text = re.sub(r'@\\w+|\\d{5,}', '', text)\n",
    "    # 移除网址\n",
    "    text = re.sub(r'http\\S+|www\\S+', '', text)\n",
    "    # 移除标点符号（如果对任务无关）\n",
    "    text = re.sub(r'[^\\w\\s]', '', text)\n",
    "    # 多余空格压缩\n",
    "    text = re.sub(r'\\s+', ' ', text).strip()\n",
    "    return text"
   ],
   "id": "fde90fd42d3d3e76",
   "outputs": [],
   "execution_count": 5
  },
  {
   "metadata": {
    "ExecuteTime": {
     "end_time": "2025-06-16T14:15:55.476791Z",
     "start_time": "2025-06-16T14:15:55.462771Z"
    }
   },
   "cell_type": "code",
   "source": [
    "# df = pd.read_csv(\"assets/clean_sample_for_labeling.csv\")\n",
    "df = pd.read_csv(\"assets/labeled_200_dataset.csv\")\n",
    "df.head()"
   ],
   "id": "e53608d881457c5",
   "outputs": [
    {
     "data": {
      "text/plain": [
       "                                                text                  label\n",
       "0  We have a week to travel suggestions Pefer war...    other_uncategorized\n",
       "1  Wärst du stattdessen auch mit der Böhmischen S...         other_chitchat\n",
       "2  Then stop sending them to my Private Sprint nu...    other_uncategorized\n",
       "3  Para cuando las 3as temporadas de Mr Robot y M...    other_uncategorized\n",
       "4  Dear my apologies for the strong language last...  other_language_issues"
      ],
      "text/html": [
       "<div>\n",
       "<style scoped>\n",
       "    .dataframe tbody tr th:only-of-type {\n",
       "        vertical-align: middle;\n",
       "    }\n",
       "\n",
       "    .dataframe tbody tr th {\n",
       "        vertical-align: top;\n",
       "    }\n",
       "\n",
       "    .dataframe thead th {\n",
       "        text-align: right;\n",
       "    }\n",
       "</style>\n",
       "<table border=\"1\" class=\"dataframe\">\n",
       "  <thead>\n",
       "    <tr style=\"text-align: right;\">\n",
       "      <th></th>\n",
       "      <th>text</th>\n",
       "      <th>label</th>\n",
       "    </tr>\n",
       "  </thead>\n",
       "  <tbody>\n",
       "    <tr>\n",
       "      <th>0</th>\n",
       "      <td>We have a week to travel suggestions Pefer war...</td>\n",
       "      <td>other_uncategorized</td>\n",
       "    </tr>\n",
       "    <tr>\n",
       "      <th>1</th>\n",
       "      <td>Wärst du stattdessen auch mit der Böhmischen S...</td>\n",
       "      <td>other_chitchat</td>\n",
       "    </tr>\n",
       "    <tr>\n",
       "      <th>2</th>\n",
       "      <td>Then stop sending them to my Private Sprint nu...</td>\n",
       "      <td>other_uncategorized</td>\n",
       "    </tr>\n",
       "    <tr>\n",
       "      <th>3</th>\n",
       "      <td>Para cuando las 3as temporadas de Mr Robot y M...</td>\n",
       "      <td>other_uncategorized</td>\n",
       "    </tr>\n",
       "    <tr>\n",
       "      <th>4</th>\n",
       "      <td>Dear my apologies for the strong language last...</td>\n",
       "      <td>other_language_issues</td>\n",
       "    </tr>\n",
       "  </tbody>\n",
       "</table>\n",
       "</div>"
      ]
     },
     "execution_count": 27,
     "metadata": {},
     "output_type": "execute_result"
    }
   ],
   "execution_count": 27
  },
  {
   "metadata": {
    "ExecuteTime": {
     "end_time": "2025-06-16T13:13:25.880236Z",
     "start_time": "2025-06-16T13:12:58.318837Z"
    }
   },
   "cell_type": "code",
   "source": [
    "# 清洗原始数据\n",
    "df_all = pd.read_csv(\"datasets/twcs.csv\")\n",
    "df_all[\"cleaned_text\"] = df_all[\"text\"].apply(clean_text)\n",
    "df_all = df_all[df_all[\"cleaned_text\"].str.strip() != \"\"]\n",
    "df_all[[\"text\", \"cleaned_text\"]].head()"
   ],
   "id": "bc60bb9c45b4044c",
   "outputs": [
    {
     "data": {
      "text/plain": [
       "                                                text  \\\n",
       "0  @115712 I understand. I would like to assist y...   \n",
       "1      @sprintcare and how do you propose we do that   \n",
       "2  @sprintcare I have sent several private messag...   \n",
       "3  @115712 Please send us a Private Message so th...   \n",
       "4                                 @sprintcare I did.   \n",
       "\n",
       "                                        cleaned_text  \n",
       "0  I understand I would like to assist you We wou...  \n",
       "1                  and how do you propose we do that  \n",
       "2  I have sent several private messages and no on...  \n",
       "3  Please send us a Private Message so that we ca...  \n",
       "4                                              I did  "
      ],
      "text/html": [
       "<div>\n",
       "<style scoped>\n",
       "    .dataframe tbody tr th:only-of-type {\n",
       "        vertical-align: middle;\n",
       "    }\n",
       "\n",
       "    .dataframe tbody tr th {\n",
       "        vertical-align: top;\n",
       "    }\n",
       "\n",
       "    .dataframe thead th {\n",
       "        text-align: right;\n",
       "    }\n",
       "</style>\n",
       "<table border=\"1\" class=\"dataframe\">\n",
       "  <thead>\n",
       "    <tr style=\"text-align: right;\">\n",
       "      <th></th>\n",
       "      <th>text</th>\n",
       "      <th>cleaned_text</th>\n",
       "    </tr>\n",
       "  </thead>\n",
       "  <tbody>\n",
       "    <tr>\n",
       "      <th>0</th>\n",
       "      <td>@115712 I understand. I would like to assist y...</td>\n",
       "      <td>I understand I would like to assist you We wou...</td>\n",
       "    </tr>\n",
       "    <tr>\n",
       "      <th>1</th>\n",
       "      <td>@sprintcare and how do you propose we do that</td>\n",
       "      <td>and how do you propose we do that</td>\n",
       "    </tr>\n",
       "    <tr>\n",
       "      <th>2</th>\n",
       "      <td>@sprintcare I have sent several private messag...</td>\n",
       "      <td>I have sent several private messages and no on...</td>\n",
       "    </tr>\n",
       "    <tr>\n",
       "      <th>3</th>\n",
       "      <td>@115712 Please send us a Private Message so th...</td>\n",
       "      <td>Please send us a Private Message so that we ca...</td>\n",
       "    </tr>\n",
       "    <tr>\n",
       "      <th>4</th>\n",
       "      <td>@sprintcare I did.</td>\n",
       "      <td>I did</td>\n",
       "    </tr>\n",
       "  </tbody>\n",
       "</table>\n",
       "</div>"
      ]
     },
     "execution_count": 6,
     "metadata": {},
     "output_type": "execute_result"
    }
   ],
   "execution_count": 6
  },
  {
   "metadata": {
    "ExecuteTime": {
     "end_time": "2025-06-16T14:47:44.025777Z",
     "start_time": "2025-06-16T14:47:43.934490Z"
    }
   },
   "cell_type": "code",
   "source": [
    "# 模型训练\n",
    "\n",
    "# 载入标注数据\n",
    "# df_labeled = pd.read_csv(\"assets/clean_sample_for_labeling.csv\")\n",
    "df_labeled = pd.read_csv(\"assets/labeled_200_dataset.csv\")\n",
    "\n",
    "# 再次清洗文本\n",
    "df_labeled[\"cleaned_text\"] = df_labeled[\"text\"].astype(str).apply(clean_text)\n",
    "\n",
    "# 去除空标签，空文本\n",
    "df_labeled = df_labeled[df_labeled[\"label\"].notnull()]\n",
    "df_labeled = df_labeled[df_labeled[\"cleaned_text\"].str.strip() != \"\"]\n",
    "\n",
    "# 构建平衡训练集\n",
    "balanced_df = (df_labeled.groupby(\"label\", group_keys=False)\n",
    "               .apply(lambda x: x.sample(n=min(len(x), 50),random_state=42)).reset_index(drop=True))\n",
    "balanced_df = balanced_df.groupby(\"label\", group_keys=False).filter(lambda x: len(x) >= 2)\n",
    "\n",
    "X_test = balanced_df[\"cleaned_text\"]\n",
    "y = balanced_df[\"label\"]\n",
    "\n",
    "# TF-IDF\n",
    "vectorizer = TfidfVectorizer(max_features=3000, stop_words='english', ngram_range=(1, 2))\n",
    "X = vectorizer.fit_transform(X_test)\n",
    "# X = vectorizer.fit_transform(df_labeled[\"cleaned_text\"])\n",
    "\n",
    "# 对 df_all 中的 cleaned_text 进行预测\n",
    "# X_all = vectorizer.fit_transform(df_all[\"cleaned_text\"])\n",
    "\n",
    "# 训练逻辑（简单逻辑回归）\n",
    "model = LogisticRegression(max_iter=1000)\n",
    "model.fit(X, y)\n",
    "\n",
    "print(\"OK\")"
   ],
   "id": "5b2eda1727599d5f",
   "outputs": [
    {
     "name": "stdout",
     "output_type": "stream",
     "text": [
      "OK\n"
     ]
    },
    {
     "name": "stderr",
     "output_type": "stream",
     "text": [
      "/var/folders/yj/h7kmf_d53bbcgzkk3bl4tch00000gn/T/ipykernel_32381/1035664142.py:16: FutureWarning: DataFrameGroupBy.apply operated on the grouping columns. This behavior is deprecated, and in a future version of pandas the grouping columns will be excluded from the operation. Either pass `include_groups=False` to exclude the groupings or explicitly select the grouping columns after groupby to silence this warning.\n",
      "  .apply(lambda x: x.sample(n=min(len(x), 50),random_state=42)).reset_index(drop=True))\n"
     ]
    }
   ],
   "execution_count": 41
  },
  {
   "metadata": {
    "ExecuteTime": {
     "end_time": "2025-06-16T14:43:08.772655Z",
     "start_time": "2025-06-16T14:43:08.767221Z"
    }
   },
   "cell_type": "code",
   "source": "# print(X.shape[1])",
   "id": "f5f366c22615c71e",
   "outputs": [
    {
     "name": "stdout",
     "output_type": "stream",
     "text": [
      "2163\n"
     ]
    }
   ],
   "execution_count": 40
  },
  {
   "metadata": {
    "ExecuteTime": {
     "end_time": "2025-06-16T14:42:05.094351Z",
     "start_time": "2025-06-16T14:41:15.396642Z"
    }
   },
   "cell_type": "code",
   "source": [
    "# df_all[\"cleaned_text\"] = df_all[\"text\"].apply(clean_text)\n",
    "# X_all = vectorizer.transform(df_all[\"cleaned_text\"])\n",
    "# print(X_all.shape[1])\n",
    "\n",
    "# 预测\n",
    "# df_all[\"risk_label\"] = model.predict(X_all)"
   ],
   "id": "89e16b7733900ef",
   "outputs": [
    {
     "name": "stdout",
     "output_type": "stream",
     "text": [
      "3000\n"
     ]
    }
   ],
   "execution_count": 39
  },
  {
   "metadata": {
    "ExecuteTime": {
     "end_time": "2025-06-16T14:47:49.096271Z",
     "start_time": "2025-06-16T14:47:49.089943Z"
    }
   },
   "cell_type": "code",
   "source": [
    "# 分训练/验证集\n",
    "X_train, X_val, y_train, y_val = train_test_split(X, y, test_size=0.2, stratify=y, random_state=42)"
   ],
   "id": "54e14172facfb615",
   "outputs": [],
   "execution_count": 42
  },
  {
   "metadata": {
    "ExecuteTime": {
     "end_time": "2025-06-16T14:48:44.007652Z",
     "start_time": "2025-06-16T14:47:50.440026Z"
    }
   },
   "cell_type": "code",
   "source": [
    "# 训练 MLP 多层感知器\n",
    "mlp_model = MLPClassifier(hidden_layer_sizes=(256, 128, 64),\n",
    "                          max_iter=500,\n",
    "                          random_state=42,\n",
    "                          )\n",
    "# mlp_model.fit(X_train, y_train)\n",
    "mlp_model.fit(X, y)\n",
    "df_all[\"cleaned_text\"] = df_all[\"text\"].astype(str).apply(clean_text)\n",
    "X_all = vectorizer.transform(df_all[\"cleaned_text\"])\n",
    "df_all[\"risk_label\"] = mlp_model.predict(X_all)\n",
    "\n",
    "# 准确率评估\n",
    "y_pred = mlp_model.predict(X_val)\n",
    "print(classification_report(y_val, y_pred))\n",
    "print(df_all[[\"text\", \"risk_label\"]].head())\n",
    "print(\"✅ 多层感知器模型训练完成\")"
   ],
   "id": "1ac21ddb070ddeda",
   "outputs": [
    {
     "name": "stdout",
     "output_type": "stream",
     "text": [
      "                        precision    recall  f1-score   support\n",
      "\n",
      "               account       1.00      1.00      1.00         2\n",
      "              delivery       1.00      1.00      1.00         2\n",
      "        other_chitchat       1.00      1.00      1.00        10\n",
      "other_general_question       1.00      1.00      1.00         4\n",
      "   other_uncategorized       1.00      1.00      1.00        10\n",
      "               payment       1.00      1.00      1.00         2\n",
      "               service       1.00      1.00      1.00         1\n",
      "             technical       1.00      1.00      1.00         1\n",
      "\n",
      "              accuracy                           1.00        32\n",
      "             macro avg       1.00      1.00      1.00        32\n",
      "          weighted avg       1.00      1.00      1.00        32\n",
      "\n",
      "                                                text           risk_label\n",
      "0  @115712 I understand. I would like to assist y...       other_chitchat\n",
      "1      @sprintcare and how do you propose we do that  other_uncategorized\n",
      "2  @sprintcare I have sent several private messag...  other_uncategorized\n",
      "3  @115712 Please send us a Private Message so th...       other_chitchat\n",
      "4                                 @sprintcare I did.  other_uncategorized\n",
      "✅ 多层感知器模型训练完成\n"
     ]
    }
   ],
   "execution_count": 43
  },
  {
   "metadata": {
    "ExecuteTime": {
     "end_time": "2025-06-16T14:49:03.268833Z",
     "start_time": "2025-06-16T14:49:02.890100Z"
    }
   },
   "cell_type": "code",
   "source": [
    "import matplotlib.pyplot as plt\n",
    "\n",
    "# 预定义的所有标签（手动写上完整列表）\n",
    "all_labels = [\n",
    "    \"account\", \"delivery\", \"other_chitchat\", \"other_general_question\",\n",
    "    \"other_uncategorized\", \"payment\", \"service\", \"technical\"\n",
    "]\n",
    "\n",
    "# 创建 value_counts 字典（未出现的标签填 0）\n",
    "pred_counts = df_all[\"risk_label\"].value_counts().to_dict()\n",
    "counts_complete = {label: pred_counts.get(label, 0) for label in all_labels}\n",
    "\n",
    "# 绘图\n",
    "plt.figure(figsize=(10, 5))\n",
    "plt.bar(counts_complete.keys(), counts_complete.values(), color=\"skyblue\", edgecolor=\"black\")\n",
    "\n",
    "plt.title(\"Predicted Risk Type Distribution (All Labels)\")\n",
    "plt.xlabel(\"Risk Category\")\n",
    "plt.ylabel(\"Number of Samples\")\n",
    "plt.xticks(rotation=45)\n",
    "plt.grid(axis=\"y\", linestyle=\"--\", alpha=0.7)\n",
    "plt.tight_layout()\n",
    "plt.show()"
   ],
   "id": "629af31ee955f465",
   "outputs": [
    {
     "data": {
      "text/plain": [
       "<Figure size 1000x500 with 1 Axes>"
      ],
      "image/png": "[encoded data removed]"
     },
     "metadata": {},
     "output_type": "display_data"
    }
   ],
   "execution_count": 44
  }
 ],
 "metadata": {
  "kernelspec": {
   "display_name": "Python 3",
   "language": "python",
   "name": "python3"
  },
  "language_info": {
   "codemirror_mode": {
    "name": "ipython",
    "version": 2
   },
   "file_extension": ".py",
   "mimetype": "text/x-python",
   "name": "python",
   "nbconvert_exporter": "python",
   "pygments_lexer": "ipython2",
   "version": "2.7.6"
  }
 },
 "nbformat": 4,
 "nbformat_minor": 5
}
