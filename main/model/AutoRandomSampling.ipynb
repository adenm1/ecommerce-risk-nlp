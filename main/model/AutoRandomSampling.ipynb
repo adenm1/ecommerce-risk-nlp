{
 "cells": [
  {
   "cell_type": "code",
   "id": "initial_id",
   "metadata": {
    "collapsed": true,
    "ExecuteTime": {
     "end_time": "2025-06-18T10:44:19.008123Z",
     "start_time": "2025-06-18T10:44:19.002734Z"
    }
   },
   "source": [
    "import pandas as pd\n",
    "from Utils import RiskLabel"
   ],
   "outputs": [],
   "execution_count": 12
  },
  {
   "metadata": {
    "ExecuteTime": {
     "end_time": "2025-06-18T10:44:19.348340Z",
     "start_time": "2025-06-18T10:44:19.017722Z"
    }
   },
   "cell_type": "code",
   "source": [
    "df_1 = pd.read_csv('../assets/labeled_L2__1_technical.csv')\n",
    "df_2 = pd.read_csv('../assets/labeled_L2__2_payment.csv')\n",
    "df_3 = pd.read_csv('../assets/labeled_L2__3_delivery.csv')\n",
    "df_4 = pd.read_csv('../assets/labeled_L2__4_account.csv')\n",
    "df_5 = pd.read_csv('../assets/labeled_L2__5_service.csv')\n",
    "df_6 = pd.read_csv('../assets/labeled_L2__6_pricing.csv')\n",
    "df_7 = pd.read_csv('../assets/labeled_L2__7_legal.csv')"
   ],
   "id": "fbd86326f4a080b1",
   "outputs": [],
   "execution_count": 13
  },
  {
   "metadata": {},
   "cell_type": "markdown",
   "source": [
    "| 分类          | 样本数量         | 说明         |\n",
    "|-------------|--------------|------------|\n",
    "| 头部类（>30k）   | 抽样 1500 条    | 控制占比，避免过拟合 |\n",
    "| 中部类（5k–30k） | 抽样 1000 条    | 保留一定代表性    |\n",
    "| 稀有类（<5k）    | 全部使用 or 抽600 | 最大保留信息     |\n",
    "\n",
    "样本中可能含有单一数据被标记多类情况，使用按权重保留策略。\n",
    "考虑到抽样的动态规划特性，无法满足既定等，所以，仅设定抽样区间范围。\n",
    "\n",
    "类别\n",
    "推荐抽样数范围\n",
    "technical, payment, delivery, service\n",
    "1000–1500 条\n",
    "account, legal, pricing\n",
    "500–800 条\n"
   ],
   "id": "eb68dc3b8bed8f08"
  },
  {
   "metadata": {
    "ExecuteTime": {
     "end_time": "2025-06-18T10:44:19.362540Z",
     "start_time": "2025-06-18T10:44:19.360907Z"
    }
   },
   "cell_type": "code",
   "source": [
    "# 分类标签样本数\n",
    "# technical\t47,410\n",
    "# payment\t39,851\n",
    "# delivery\t60,139\n",
    "# account\t6,060\n",
    "# service\t32,386\n",
    "# pricing\t2,687\n",
    "# legal\t    5,499\n"
   ],
   "id": "503b5fe7443f566f",
   "outputs": [],
   "execution_count": 14
  },
  {
   "metadata": {
    "ExecuteTime": {
     "end_time": "2025-06-18T10:44:19.393378Z",
     "start_time": "2025-06-18T10:44:19.390796Z"
    }
   },
   "cell_type": "code",
   "source": [
    "def sample_and_clean_enum(df_list, sample_sizes: dict):\n",
    "    # 1. 合并所有数据（并保留原始标签）\n",
    "    df_all = pd.concat(df_list, ignore_index=True)\n",
    "\n",
    "    # 2. 去除重复 tweet_id，只保留优先级高的标签\n",
    "    df_all = df_all.sort_values(\n",
    "        by='label', \n",
    "        key=lambda col: col.map(lambda x: RiskLabel[x.upper()].value)\n",
    "    )\n",
    "    df_all = df_all.drop_duplicates(subset='tweet_id', keep='first')\n",
    "\n",
    "    # 3. 按类别分组采样\n",
    "    df_samples = []\n",
    "    for label_name, size in sample_sizes.items():\n",
    "        label_enum = RiskLabel[label_name.upper()]\n",
    "        df_sub = df_all[df_all['label'].str.lower() == label_name.lower()]\n",
    "        if len(df_sub) > size:\n",
    "            df_sub = df_sub.sample(n=size, random_state=42)\n",
    "        df_samples.append(df_sub)\n",
    "\n",
    "    # 4. 合并最终训练集\n",
    "    df_final = pd.concat(df_samples, ignore_index=True)\n",
    "    return df_final\n"
   ],
   "id": "84169841f797b624",
   "outputs": [],
   "execution_count": 15
  },
  {
   "metadata": {},
   "cell_type": "markdown",
   "source": [
    "Step 1: 计算占比\n",
    "| **Label** | **候选池数量**   | **占比（%）** |\n",
    "|-----------|-------------|-----------|\n",
    "| technical | 47,410      | 25.2%     |\n",
    "| payment   | 39,851      | 21.2%     |\n",
    "| delivery  | 60,139      | 31.9%     |\n",
    "| account   | 6,060       | 3.2%      |\n",
    "| service   | 32,386      | 17.2%     |\n",
    "| pricing   | 2,687       | 1.4%      |\n",
    "| legal     | 5,499       | 2.9%      |\n",
    "| **合计**    | **194,032** | **100%**  |\n",
    "\n",
    "<br>\n",
    "Step 2: 目标采样数量（假设总样本为 7500）\n",
    "\n",
    "乘以 7500 得出建议采样数：\n",
    "\n",
    "| **Label** | **占比**   | **建议采样数** |\n",
    "|-----------|----------|-----------|\n",
    "| technical | 25.2%    | 1890      |\n",
    "| payment   | 21.2%    | 1590      |\n",
    "| delivery  | 31.9%    | 2390      |\n",
    "| account   | 3.2%     | 240       |\n",
    "| service   | 17.2%    | 1290      |\n",
    "| pricing   | 1.4%     | 105       |\n",
    "| legal     | 2.9%     | 220       |\n",
    "| **合计**    | **7725** |           |\n",
    "\n",
    "\n"
   ],
   "id": "c041b50ca02e7832"
  },
  {
   "metadata": {
    "ExecuteTime": {
     "end_time": "2025-06-18T10:44:51.674796Z",
     "start_time": "2025-06-18T10:44:51.671040Z"
    }
   },
   "cell_type": "code",
   "source": [
    "df_list = [df_1, df_2, df_3, df_4, df_5, df_6, df_7]\n",
    "\n",
    "# 采样参数参照建议采样数\n",
    "sample_sizes = {\n",
    "    'technical': 1800,\n",
    "    'payment': 1500,\n",
    "    'delivery': 2100,\n",
    "    'account': 300,\n",
    "    'service': 1200,\n",
    "    'pricing': 150,\n",
    "    'legal': 200\n",
    "}"
   ],
   "id": "cb11e14c44666082",
   "outputs": [],
   "execution_count": 16
  },
  {
   "metadata": {
    "ExecuteTime": {
     "end_time": "2025-06-18T10:45:19.311915Z",
     "start_time": "2025-06-18T10:45:19.085409Z"
    }
   },
   "cell_type": "code",
   "source": [
    "df_sample = sample_and_clean_enum(df_list, sample_sizes)\n",
    "df_sample.head()"
   ],
   "id": "6a7d6c366a3ae5c6",
   "outputs": [
    {
     "data": {
      "text/plain": [
       "   tweet_id                                               text      label\n",
       "0   2460800  @704611 Hi Mike, can you give us a little more...  technical\n",
       "1   1638473  @221850 @17344 @17345 We're aware of this prin...  technical\n",
       "2   2864565  @795659 Hi Kyle, we’re so sorry to hear this. ...  technical\n",
       "3   2842751  @708320 Check out the next article to troubles...  technical\n",
       "4   1778347  @AskPlayStation do you have an outage. I'm not...  technical"
      ],
      "text/html": [
       "<div>\n",
       "<style scoped>\n",
       "    .dataframe tbody tr th:only-of-type {\n",
       "        vertical-align: middle;\n",
       "    }\n",
       "\n",
       "    .dataframe tbody tr th {\n",
       "        vertical-align: top;\n",
       "    }\n",
       "\n",
       "    .dataframe thead th {\n",
       "        text-align: right;\n",
       "    }\n",
       "</style>\n",
       "<table border=\"1\" class=\"dataframe\">\n",
       "  <thead>\n",
       "    <tr style=\"text-align: right;\">\n",
       "      <th></th>\n",
       "      <th>tweet_id</th>\n",
       "      <th>text</th>\n",
       "      <th>label</th>\n",
       "    </tr>\n",
       "  </thead>\n",
       "  <tbody>\n",
       "    <tr>\n",
       "      <th>0</th>\n",
       "      <td>2460800</td>\n",
       "      <td>@704611 Hi Mike, can you give us a little more...</td>\n",
       "      <td>technical</td>\n",
       "    </tr>\n",
       "    <tr>\n",
       "      <th>1</th>\n",
       "      <td>1638473</td>\n",
       "      <td>@221850 @17344 @17345 We're aware of this prin...</td>\n",
       "      <td>technical</td>\n",
       "    </tr>\n",
       "    <tr>\n",
       "      <th>2</th>\n",
       "      <td>2864565</td>\n",
       "      <td>@795659 Hi Kyle, we’re so sorry to hear this. ...</td>\n",
       "      <td>technical</td>\n",
       "    </tr>\n",
       "    <tr>\n",
       "      <th>3</th>\n",
       "      <td>2842751</td>\n",
       "      <td>@708320 Check out the next article to troubles...</td>\n",
       "      <td>technical</td>\n",
       "    </tr>\n",
       "    <tr>\n",
       "      <th>4</th>\n",
       "      <td>1778347</td>\n",
       "      <td>@AskPlayStation do you have an outage. I'm not...</td>\n",
       "      <td>technical</td>\n",
       "    </tr>\n",
       "  </tbody>\n",
       "</table>\n",
       "</div>"
      ]
     },
     "execution_count": 17,
     "metadata": {},
     "output_type": "execute_result"
    }
   ],
   "execution_count": 17
  },
  {
   "metadata": {
    "ExecuteTime": {
     "end_time": "2025-06-18T10:45:43.002226Z",
     "start_time": "2025-06-18T10:45:42.974232Z"
    }
   },
   "cell_type": "code",
   "source": [
    "# 7250\n",
    "df_sample.count()"
   ],
   "id": "cf56fe26a1944b04",
   "outputs": [
    {
     "data": {
      "text/plain": [
       "tweet_id    7250\n",
       "text        7250\n",
       "label       7250\n",
       "dtype: int64"
      ]
     },
     "execution_count": 18,
     "metadata": {},
     "output_type": "execute_result"
    }
   ],
   "execution_count": 18
  },
  {
   "metadata": {
    "ExecuteTime": {
     "end_time": "2025-06-18T10:49:06.806092Z",
     "start_time": "2025-06-18T10:49:06.791638Z"
    }
   },
   "cell_type": "code",
   "source": [
    "# 样本分布，与原始数据集分布保持一致，表现良好\n",
    "df_sample['label'].value_counts()"
   ],
   "id": "6bf3e302dc8433e4",
   "outputs": [
    {
     "data": {
      "text/plain": [
       "label\n",
       "delivery     2100\n",
       "technical    1800\n",
       "payment      1500\n",
       "service      1200\n",
       "account       300\n",
       "legal         200\n",
       "pricing       150\n",
       "Name: count, dtype: int64"
      ]
     },
     "execution_count": 19,
     "metadata": {},
     "output_type": "execute_result"
    }
   ],
   "execution_count": 19
  },
  {
   "metadata": {
    "ExecuteTime": {
     "end_time": "2025-06-18T10:52:00.042987Z",
     "start_time": "2025-06-18T10:52:00.001573Z"
    }
   },
   "cell_type": "code",
   "source": "df_sample.to_csv(\"../assets/labeled_L2__sample_enum.csv\", index=False, encoding='utf-8-sig')",
   "id": "b82a31a3e0901000",
   "outputs": [],
   "execution_count": 20
  }
 ],
 "metadata": {
  "kernelspec": {
   "display_name": "Python 3",
   "language": "python",
   "name": "python3"
  },
  "language_info": {
   "codemirror_mode": {
    "name": "ipython",
    "version": 2
   },
   "file_extension": ".py",
   "mimetype": "text/x-python",
   "name": "python",
   "nbconvert_exporter": "python",
   "pygments_lexer": "ipython2",
   "version": "2.7.6"
  }
 },
 "nbformat": 4,
 "nbformat_minor": 5
}
